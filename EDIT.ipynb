{
 "cells": [
  {
   "cell_type": "code",
   "execution_count": 1,
   "metadata": {},
   "outputs": [],
   "source": [
    "from Bio import SeqIO"
   ]
  },
  {
   "cell_type": "code",
   "execution_count": 2,
   "metadata": {},
   "outputs": [],
   "source": [
    "s = 'PLEASANTLY'\n",
    "t = 'MEANLY'"
   ]
  },
  {
   "cell_type": "code",
   "execution_count": 3,
   "metadata": {},
   "outputs": [],
   "source": [
    "def edit(s, t):\n",
    "    '''\n",
    "    '''\n",
    "    Mat = [[0 for i in range(len(t) + 1)] for j in range(len(s) + 1)]\n",
    "    \n",
    "    for i in range(1, len(s) + 1):\n",
    "        Mat[i][0] = i\n",
    "    for i in range(1, len(t) + 1):\n",
    "        Mat[0][i] = i\n",
    "    \n",
    "    for i in range(1, len(s) + 1):\n",
    "        for j in range(1, len(t) + 1):\n",
    "            if s[i-1] == t[j-1]:\n",
    "                cost = 0\n",
    "            else:\n",
    "                cost = 1\n",
    "            Mat[i][j] = min(Mat[i-1][j]+1, Mat[i][j-1] + 1, Mat[i-1][j-1] + cost)\n",
    "            \n",
    "    print(Mat[len(s)][len(t)])\n",
    "    \n",
    "    return Mat"
   ]
  },
  {
   "cell_type": "code",
   "execution_count": 4,
   "metadata": {},
   "outputs": [
    {
     "name": "stdout",
     "output_type": "stream",
     "text": [
      "5\n"
     ]
    }
   ],
   "source": [
    "Mat = edit(s,t)"
   ]
  },
  {
   "cell_type": "code",
   "execution_count": 5,
   "metadata": {},
   "outputs": [],
   "source": [
    "def match(a,b):\n",
    "    if a == b:\n",
    "        return(0)\n",
    "    return(1)"
   ]
  },
  {
   "cell_type": "code",
   "execution_count": 6,
   "metadata": {},
   "outputs": [],
   "source": [
    "def traceback(s, t, Mat):\n",
    "    s_prim = ''\n",
    "    t_prim = ''\n",
    "    i = len(s)\n",
    "    j = len(t)\n",
    "\n",
    "    while i*j != 0:\n",
    "        if Mat[i][j] == Mat[i-1][j-1] + match(s[i-1], t[j-1]):\n",
    "            s_prim = s[i-1] + s_prim\n",
    "            t_prim = t[j-1] + t_prim\n",
    "            i -= 1\n",
    "            j -= 1\n",
    "        elif i > 0 and Mat[i][j] == Mat[i-1][j] + 1:\n",
    "            s_prim = s[i-1] + s_prim\n",
    "            t_prim = '-' + t_prim\n",
    "            i -= 1\n",
    "        else:\n",
    "            t_prim = t[j-1] + t_prim\n",
    "            s_prim = '-' + s_prim\n",
    "            j -= 1\n",
    "    print(s_prim)\n",
    "    print(t_prim)"
   ]
  },
  {
   "cell_type": "code",
   "execution_count": 11,
   "metadata": {},
   "outputs": [],
   "source": [
    "handle = open(\"/Users/anilkumar/projectEEG/rosalind_edta (1).txt\")\n",
    "sequences = []\n",
    "for record in SeqIO.parse(handle, \"fasta\"):\n",
    "    sequences.append(str(record.seq))\n",
    "handle.close()"
   ]
  },
  {
   "cell_type": "code",
   "execution_count": null,
   "metadata": {},
   "outputs": [],
   "source": []
  },
  {
   "cell_type": "code",
   "execution_count": 12,
   "metadata": {},
   "outputs": [],
   "source": [
    "s = sequences[0]\n",
    "t = sequences[1]"
   ]
  },
  {
   "cell_type": "code",
   "execution_count": 13,
   "metadata": {},
   "outputs": [
    {
     "name": "stdout",
     "output_type": "stream",
     "text": [
      "479\n"
     ]
    }
   ],
   "source": [
    "Mat = edit(s,t)"
   ]
  },
  {
   "cell_type": "code",
   "execution_count": 14,
   "metadata": {},
   "outputs": [
    {
     "name": "stdout",
     "output_type": "stream",
     "text": [
      "E--------FDRP-S--S--QYSCTGN-----EAFND---ENHFTGNAVANKFILA----DIMYGCFS-R-----RY--KKG------VEVCPK----T--------TWETEKCVRQCHHNL--RT---RKA-N-----EYVG------HRYW-CSCFMRMTIVAIVWYGFTLMFEEDSYYW-----VR-IAHGFTGVYRGCILMNTYMYYGWPMVGPIRNQSGDLFSMWLQPYYPSCHIWKHRYTIIPIDMEPMLLSIMLSIWERQDGNCKPVLDPFRGYID--TICKAAHHLAKTTFFPYTGSGCDHMSKWSQWML-LFASFSEHAIDSKGSAADDWET--N---YLSGMNTFFRVWRQVLKLGWCCEFQTMYTWLYHAAPYAFHWENYENRHVIENRCLGHENMFILHFFTQMMEVEIVNYINKWFHWVDALKGCEVWSHKCDNGVGDVTNHVRYSFRWCDN-NDAINWKCSFQRRRFEIGNRCAHEQICQWTDNNERVGYYESRVQAPMYNRQHYFAAWCCQPSDILQIYIRHRCWFKRIHKECCFGIWCSYGYKGSNVVHGCQTRPV-YQCCD--YTLS------ITCKM--HSHDQLIP--TKS-KKDCDW-YHYMGEPPRMGTVLNQLCHCKPCPKYET--------TSQEAGTVP----ATYNPQMTIHENSWMRTGQREGLIGLRRWPVTNVIHFMICYRRRRHTY--W-WCKSSPMAYSMEWVKHACIVACYFLE------DQCC--QTIFKKWIDYNVQSESMFGRWAVILGGDGMDEGGRHWCRRTLRCVRFSFIDPVPGYDRRKQYGIFHWVFLFSEDTKKWEEWNECIIQKWGYT----VLFQGWYYGDIAAPTMSQWINWIQIYKEYPCFLERISIMVTPMCMRNESDGYCYDIPAAVIGYHTMVYQTVGD-SCQQH-Y-----PKN-GDNPTQIIEFEGGFHEIALKGVHLNSENANSALWFT-H\n",
      "EMWRTKKVKHDRPGSWYSHDPYSRTGNPTGLMYAFNDTAAGNHFIGNAVANKFILALPQFDIAYGCFSFRYTIGQGYHQWKGRPEASSNEVCPKILLRTIWMIVGAEKWEIEKCVRQCHHNLRYRTALAPIAINCDTAHCYVGWIDAIPMGCWPHSC-NCSLCFRMVWYGFTLMFEEDSYYWRIIQYWRHQDHGFTGVGRGCILMNTQMYTGWPPVGPIRNQSG--------PYY--C---K-------------KL-CMLSIWERQDG-CFTQLDPFRGYIDRFMICKAAHH---------TGVNHDH-----GWMLNSTASFSRLAIDVKGSAADDWETNHNFLIVLSYPNTFFACLLDV-K---CAYWQTMYTWLY-ISRERKH--LYAAPYAFQLRCLGHENMFILH-F-RAWVVEIVNYINKWFHWVDALKGCEVWSHKCDNGHAKIPTH----GMWVTNHCDMI--HVPYQNKNDAI-N----WKMKGTTD--ETMNEYESRVQAPMYNRQHYFAAWCCQPSDILQILIR-R----R-CDECKFGIWCSYGYKGSNVVHVCQTRPVCCDLRDRERTNSQKRTKTYTCKMCWKWPNQQSPGSCESWTLIVDWPDGEEKTYHRMGTV-NQLCHCKPCPKYTTVICLIHQCMSQEAGTVPQMELYTYNPQMTTHENSWYKT---------RRWPVTNVNHFMICYCRRRHTYKCWGPHYESPMAYSMEWV-RLHHVACYFLEAACLGWVPCCQTQTIFKKWIDYNVQSLSMFGR-------KYPHE-GHGWCRIT------SFIDPVPGYD-------FQWWFLQSEDT----EWVECIIQKWGYTDYPICWFQGWYY--PHHHNYQLDIAAPTMSKEYPVTKMCACYQWDEM-M---KIGYHTNNFFA----RT-VYQTVGDPHCQQHYYTAFHTIKNMNDNPT-MI-F--G-DIIEFEGGHLNSENANSALWFTVW\n"
     ]
    }
   ],
   "source": [
    "traceback(s, t, Mat)"
   ]
  },
  {
   "cell_type": "code",
   "execution_count": null,
   "metadata": {},
   "outputs": [],
   "source": []
  },
  {
   "cell_type": "code",
   "execution_count": null,
   "metadata": {},
   "outputs": [],
   "source": []
  }
 ],
 "metadata": {
  "kernelspec": {
   "display_name": "Python 3",
   "language": "python",
   "name": "python3"
  },
  "language_info": {
   "codemirror_mode": {
    "name": "ipython",
    "version": 3
   },
   "file_extension": ".py",
   "mimetype": "text/x-python",
   "name": "python",
   "nbconvert_exporter": "python",
   "pygments_lexer": "ipython3",
   "version": "3.7.0"
  }
 },
 "nbformat": 4,
 "nbformat_minor": 2
}
