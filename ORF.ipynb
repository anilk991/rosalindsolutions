{
 "cells": [
  {
   "cell_type": "code",
   "execution_count": 2,
   "metadata": {},
   "outputs": [],
   "source": [
    "import re"
   ]
  },
  {
   "cell_type": "code",
   "execution_count": 72,
   "metadata": {},
   "outputs": [],
   "source": [
    "seq = 'AGCCATGTAGCTAACTCAGGTTACATGGGGATGACCCCGCGACTTGGATTAGAGTCTCTTTTGGAATAAGCCTGAATGATCCGAGTAGCATCTCAG'"
   ]
  },
  {
   "cell_type": "code",
   "execution_count": 202,
   "metadata": {},
   "outputs": [],
   "source": [
    "codons = open(\"/Users/anilkumar/projectEEG/rosalind_dna.txt\").readlines()\n",
    "codons = [codon.replace(\"\\n\", \"\") for codon in codons]\n",
    "codons = [codon.replace(\"      \", \"\") for codon in codons]\n",
    "codons = [codon.replace(\"   \", \"\") for codon in codons]"
   ]
  },
  {
   "cell_type": "code",
   "execution_count": 203,
   "metadata": {},
   "outputs": [],
   "source": [
    "codons = [codon.replace(\"U\", \"T\") for codon in codons]"
   ]
  },
  {
   "cell_type": "code",
   "execution_count": 29,
   "metadata": {},
   "outputs": [],
   "source": [
    "Codons = {}\n",
    "for codon in codons:\n",
    "    a, b = codon.split(\" \")[:2]\n",
    "    Codons[a] = b"
   ]
  },
  {
   "cell_type": "code",
   "execution_count": 101,
   "metadata": {},
   "outputs": [],
   "source": [
    "def DNA2PROT(seq):\n",
    "    i = 0\n",
    "    prot_seq = []\n",
    "    while i < len(seq):\n",
    "        codon = seq[i:i+3]\n",
    "        if Codons[codon] != 'Stop':\n",
    "            prot_seq.append(Codons[codon])\n",
    "        i += 3\n",
    "    return \"\".join(prot_seq)"
   ]
  },
  {
   "cell_type": "code",
   "execution_count": 111,
   "metadata": {},
   "outputs": [],
   "source": [
    "def rev_comp(dna):\n",
    "    comps = {'A': 'T', 'C': 'G', 'T': 'A', 'G': 'C'}\n",
    "    return ''.join(comps[base] for base in dna[::-1])"
   ]
  },
  {
   "cell_type": "code",
   "execution_count": 181,
   "metadata": {},
   "outputs": [],
   "source": [
    "def orfs(dna):\n",
    "    import re\n",
    "    seqs = []\n",
    "    startSites = [m.start() for m in re.finditer(r'ATG', dna)]\n",
    "    stopSites = [m.start() for m in re.finditer(r'(TAA)|(TAG)|(TGA)', dna)]\n",
    "    for start in startSites:\n",
    "        for stop in stopSites:\n",
    "            if stop > start and (stop - start)%3 == 0:\n",
    "                seqs.append(dna[start:stop])\n",
    "                break\n",
    "    return seqs"
   ]
  },
  {
   "cell_type": "code",
   "execution_count": 258,
   "metadata": {},
   "outputs": [],
   "source": [
    "def all_proteins(dna):\n",
    "    comp_dna = rev_comp(dna)\n",
    "    orfs_dna = orfs(dna)\n",
    "    orfs_comp = orfs(comp_dna)\n",
    "    #if not orfs_comp:\n",
    "    #return orfs_dna, orfs_comp\n",
    "\n",
    "    for comp in orfs_comp[:]:\n",
    "        if comp in orfs_dna:\n",
    "            orfs_comp.remove(comp)\n",
    "    tot_orfs = orfs_dna + orfs_comp\n",
    "    prots = []\n",
    "    for orf in tot_orfs:\n",
    "        prots.append(DNA2PROT(orf))\n",
    "    return prots"
   ]
  },
  {
   "cell_type": "code",
   "execution_count": 259,
   "metadata": {},
   "outputs": [
    {
     "name": "stdout",
     "output_type": "stream",
     "text": [
      "MFVYLCFGRSGNVVDIPYDNY\n",
      "MFRSQR\n",
      "MTIISVLTHLYGLPLYTRRRLP\n",
      "MVYHFIRDDGSLERRMFRVTYGVLLRARTGGSVFQRTIYRCARQWARGLEGSNR\n",
      "MFRVTYGVLLRARTGGSVFQRTIYRCARQWARGLEGSNR\n",
      "MIAFFDSPVCASCTGSACITSTMSMNLRGSI\n",
      "MYNQYHEHELERLDLAKSSLSSS\n",
      "MSMNLRGSI\n",
      "MNLRGSI\n",
      "MLLFTWDTSLGSV\n",
      "MTPYAR\n",
      "M\n",
      "MGNTLFYDGGEEEPQPLIASSDAHYTGPSDQSGTPTVLISVSIMVIGACVVEIIFGFL\n",
      "MMGVRRSHNLS\n",
      "MGVRRSHNLS\n",
      "MVIGACVVEIIFGFL\n",
      "MTDSSSTFSYQLSRRQV\n",
      "MSKPADEIADMKRCLRSRSSRIAIGIRILSLQHMLR\n",
      "MKRCLRSRSSRIAIGIRILSLQHMLR\n",
      "MLR\n",
      "MTIMETLINTVGVPLWSLGPV\n",
      "METLINTVGVPLWSLGPV\n",
      "MRGCGSSSPPS\n",
      "MESLCRILVRLIQVKCPT\n",
      "MLESETYELERLDLAKSSLSSSCSWYWLYMQIRCSLRRPGNRRRLSWIERLIRGKSSLGTSGTNAYAFKSHARTYP\n",
      "MLMVLVIHADPVQLAQTGESKKAIMD\n",
      "MVLVIHADPVQLAQTGESKKAIMD\n",
      "MQIRCSLRRPGNRRRLSWIERLIRGKSSLGTSGTNAYAFKSHARTYP\n",
      "MD\n",
      "MRLSREPSSRIKW\n",
      "MCEHANNCHTVYPLRYRCDRNIDRQTSR\n"
     ]
    }
   ],
   "source": [
    "for prot in all_proteins(seq):\n",
    "    print(prot)"
   ]
  },
  {
   "cell_type": "code",
   "execution_count": 261,
   "metadata": {},
   "outputs": [],
   "source": [
    "file = open(\"/Users/anilkumar/projectEEG/rosalind_orf (1).txt\")\n",
    "seq = file.readlines()[1:]\n",
    "file.close()\n",
    "seq = [line.replace(\"\\n\", \"\") for line in seq]\n",
    "seq = \"\".join(seq)"
   ]
  },
  {
   "cell_type": "code",
   "execution_count": 262,
   "metadata": {},
   "outputs": [
    {
     "name": "stdout",
     "output_type": "stream",
     "text": [
      "MLRSRTTELSNSKTIVSI\n",
      "MTFFFHP\n",
      "MALYT\n",
      "MPRCECPLPRKFSPRS\n",
      "MPAPSEI\n",
      "MTPISQVFGPLREAHPRTVTFQQ\n",
      "MKGARL\n",
      "MGIGLSWLMRHFNRVIVAIDCYPRQGMPQGN\n",
      "MRHFNRVIVAIDCYPRQGMPQGN\n",
      "MPQGN\n",
      "MSRSSKGFELLLSWSMPSSGKDAVMRPETHPRRRRT\n",
      "MPSSGKDAVMRPETHPRRRRT\n",
      "MRPETHPRRRRT\n",
      "MPKDGKHVREFTTTLTACT\n",
      "MPTGRRHLGGYYPLYHFLRIRNTVKCAAGGDGFRGA\n",
      "MGFGAHNSVLT\n",
      "MDQDKRSSNPLLLRDISNSSSLLIALRHALSRIAIDSDYHSVKVSHQPAQPNTHGDQEVDERRTSLAKDVRLSLLERNRARMSFSQWPEHLTDRGHPSFNS\n",
      "MPCLG\n",
      "METKK\n",
      "MSFSQWPEHLTDRGHPSFNS\n",
      "MARTLD\n",
      "MLLD\n",
      "MGGRKKSW\n",
      "MVSDGTLQLRPGAS\n",
      "MALYNFVQVRLNTAQQIAI\n"
     ]
    }
   ],
   "source": [
    "for prot in all_proteins(seq):\n",
    "    print(prot)"
   ]
  },
  {
   "cell_type": "code",
   "execution_count": 224,
   "metadata": {},
   "outputs": [],
   "source": []
  },
  {
   "cell_type": "code",
   "execution_count": null,
   "metadata": {},
   "outputs": [],
   "source": []
  },
  {
   "cell_type": "code",
   "execution_count": null,
   "metadata": {},
   "outputs": [],
   "source": []
  },
  {
   "cell_type": "code",
   "execution_count": null,
   "metadata": {},
   "outputs": [],
   "source": []
  },
  {
   "cell_type": "code",
   "execution_count": null,
   "metadata": {},
   "outputs": [],
   "source": []
  }
 ],
 "metadata": {
  "kernelspec": {
   "display_name": "Python 3",
   "language": "python",
   "name": "python3"
  },
  "language_info": {
   "codemirror_mode": {
    "name": "ipython",
    "version": 3
   },
   "file_extension": ".py",
   "mimetype": "text/x-python",
   "name": "python",
   "nbconvert_exporter": "python",
   "pygments_lexer": "ipython3",
   "version": "3.7.0"
  }
 },
 "nbformat": 4,
 "nbformat_minor": 2
}
