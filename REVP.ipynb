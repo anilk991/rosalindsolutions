{
 "cells": [
  {
   "cell_type": "code",
   "execution_count": 37,
   "metadata": {},
   "outputs": [],
   "source": [
    "import re"
   ]
  },
  {
   "cell_type": "code",
   "execution_count": 233,
   "metadata": {},
   "outputs": [],
   "source": [
    "seq = 'TCAATGCATGCGGGTCTATATGCAT'"
   ]
  },
  {
   "cell_type": "code",
   "execution_count": 36,
   "metadata": {},
   "outputs": [],
   "source": [
    "def rev_comp(dna):\n",
    "    comps = {'A': 'T', 'C': 'G', 'T': 'A', 'G': 'C'}\n",
    "    return ''.join(comps[base] for base in dna[::-1])"
   ]
  },
  {
   "cell_type": "code",
   "execution_count": 234,
   "metadata": {},
   "outputs": [],
   "source": [
    "rev_seq = rev_comp(seq)"
   ]
  },
  {
   "cell_type": "code",
   "execution_count": null,
   "metadata": {},
   "outputs": [],
   "source": []
  },
  {
   "cell_type": "code",
   "execution_count": 246,
   "metadata": {},
   "outputs": [],
   "source": [
    "seq = open(\"/Users/anilkumar/projectEEG/rosalind_revp (1).txt\").readlines()[1:]\n",
    "seq = [s.replace(\"\\n\", \"\") for s in seq]\n",
    "seq = \"\".join(seq)"
   ]
  },
  {
   "cell_type": "code",
   "execution_count": null,
   "metadata": {},
   "outputs": [],
   "source": []
  },
  {
   "cell_type": "code",
   "execution_count": 247,
   "metadata": {},
   "outputs": [],
   "source": [
    "def RE_Sites(seq):\n",
    "    for i in range(len(seq)):\n",
    "        for j in range(4, 13, 2):\n",
    "            if i + j > len(seq):\n",
    "                continue\n",
    "            temp = seq[i:i+j]\n",
    "            rev_temp = rev_comp(temp)\n",
    "    \n",
    "            if temp == rev_temp:\n",
    "                print(i+1, len(temp))"
   ]
  },
  {
   "cell_type": "code",
   "execution_count": 248,
   "metadata": {},
   "outputs": [
    {
     "name": "stdout",
     "output_type": "stream",
     "text": [
      "1 4\n",
      "23 4\n",
      "44 8\n",
      "45 6\n",
      "46 4\n",
      "53 4\n",
      "54 12\n",
      "55 10\n",
      "56 8\n",
      "57 6\n",
      "58 4\n",
      "73 4\n",
      "111 4\n",
      "114 4\n",
      "127 4\n",
      "135 4\n",
      "136 4\n",
      "147 8\n",
      "148 6\n",
      "149 4\n",
      "166 4\n",
      "167 4\n",
      "170 4\n",
      "176 4\n",
      "190 4\n",
      "213 10\n",
      "214 8\n",
      "215 6\n",
      "216 4\n",
      "231 4\n",
      "253 6\n",
      "254 4\n",
      "265 10\n",
      "266 8\n",
      "267 6\n",
      "268 4\n",
      "274 4\n",
      "275 4\n",
      "297 6\n",
      "298 4\n",
      "306 4\n",
      "308 4\n",
      "332 4\n",
      "357 4\n",
      "394 8\n",
      "395 6\n",
      "396 4\n",
      "413 6\n",
      "414 4\n",
      "435 4\n",
      "457 4\n",
      "459 12\n",
      "460 10\n",
      "461 8\n",
      "462 6\n",
      "463 4\n",
      "511 6\n",
      "512 4\n",
      "517 4\n",
      "547 6\n",
      "548 4\n",
      "575 4\n",
      "576 4\n",
      "595 4\n",
      "604 6\n",
      "605 4\n",
      "608 4\n",
      "633 4\n",
      "650 4\n",
      "652 8\n",
      "653 6\n",
      "654 4\n",
      "672 4\n",
      "674 8\n",
      "675 6\n",
      "676 4\n",
      "685 4\n",
      "719 4\n",
      "722 4\n",
      "726 4\n",
      "734 4\n",
      "756 6\n",
      "757 4\n",
      "760 4\n",
      "767 4\n",
      "769 4\n",
      "772 4\n",
      "778 6\n",
      "779 4\n",
      "808 4\n",
      "813 6\n",
      "814 4\n",
      "820 4\n",
      "829 4\n",
      "838 4\n",
      "866 4\n",
      "867 4\n",
      "913 4\n",
      "915 4\n",
      "921 4\n",
      "925 4\n"
     ]
    }
   ],
   "source": [
    "RE_Sites(seq)"
   ]
  },
  {
   "cell_type": "code",
   "execution_count": null,
   "metadata": {},
   "outputs": [],
   "source": []
  }
 ],
 "metadata": {
  "kernelspec": {
   "display_name": "Python 3",
   "language": "python",
   "name": "python3"
  },
  "language_info": {
   "codemirror_mode": {
    "name": "ipython",
    "version": 3
   },
   "file_extension": ".py",
   "mimetype": "text/x-python",
   "name": "python",
   "nbconvert_exporter": "python",
   "pygments_lexer": "ipython3",
   "version": "3.7.0"
  }
 },
 "nbformat": 4,
 "nbformat_minor": 2
}
