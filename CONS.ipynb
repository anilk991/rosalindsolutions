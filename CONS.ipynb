{
 "cells": [
  {
   "cell_type": "markdown",
   "metadata": {},
   "source": [
    "### Consensus sequence matrix"
   ]
  },
  {
   "cell_type": "code",
   "execution_count": 25,
   "metadata": {},
   "outputs": [],
   "source": [
    "import re"
   ]
  },
  {
   "cell_type": "code",
   "execution_count": 130,
   "metadata": {},
   "outputs": [],
   "source": [
    "file = open(\"/Users/anilkumar/projectEEG/rosalind_cons (3).txt\")\n",
    "seqs = file.read()\n",
    "seqs = seqs.replace(\"\\n\", \"\")\n",
    "ids = re.findall(r'>Rosalind_\\d{4}', seqs)\n",
    "seqs = re.split(r'>Rosalind_\\d{4}', seqs)[1:]"
   ]
  },
  {
   "cell_type": "code",
   "execution_count": 131,
   "metadata": {},
   "outputs": [],
   "source": [
    "prof_mat = {'A': [], 'C': [], 'G':[], 'T': []}"
   ]
  },
  {
   "cell_type": "code",
   "execution_count": 132,
   "metadata": {},
   "outputs": [],
   "source": [
    "num_seqs = len(seqs)\n",
    "len_seqs = len(seqs[0])"
   ]
  },
  {
   "cell_type": "code",
   "execution_count": 133,
   "metadata": {},
   "outputs": [],
   "source": [
    "for i in range(len_seqs):\n",
    "    countA = 0\n",
    "    countT = 0\n",
    "    countG = 0\n",
    "    countC = 0\n",
    "    for j in range(num_seqs):\n",
    "        if seqs[j][i] == 'A':\n",
    "            countA += 1\n",
    "        elif seqs[j][i] == 'T':\n",
    "            countT += 1\n",
    "        elif seqs[j][i] == 'G':\n",
    "            countG += 1\n",
    "        elif seqs[j][i] == 'C':\n",
    "            countC += 1\n",
    "    prof_mat['A'].append(countA)\n",
    "    prof_mat['C'].append(countC)\n",
    "    prof_mat['G'].append(countG)\n",
    "    prof_mat['T'].append(countT)"
   ]
  },
  {
   "cell_type": "code",
   "execution_count": null,
   "metadata": {},
   "outputs": [],
   "source": []
  },
  {
   "cell_type": "code",
   "execution_count": 134,
   "metadata": {},
   "outputs": [],
   "source": [
    "def consensus(prof_mat):\n",
    "    cons = []\n",
    "    mat = np.array(list(prof_mat.values()))\n",
    "    for i in range(len_seqs):\n",
    "        max_res = np.argmax(np.array(list(prof_mat.values()))[:,i])\n",
    "        cons.append(list(prof_mat.keys())[max_res])\n",
    "    return \"\".join(cons)"
   ]
  },
  {
   "cell_type": "code",
   "execution_count": null,
   "metadata": {},
   "outputs": [],
   "source": []
  },
  {
   "cell_type": "code",
   "execution_count": null,
   "metadata": {},
   "outputs": [],
   "source": []
  },
  {
   "cell_type": "code",
   "execution_count": null,
   "metadata": {},
   "outputs": [],
   "source": []
  },
  {
   "cell_type": "code",
   "execution_count": 135,
   "metadata": {},
   "outputs": [
    {
     "name": "stdout",
     "output_type": "stream",
     "text": [
      "TAGAATTAAAACGCGCGATTCCAATAACGGTGGAAGGGGGATACGGTTAGGGAGTTTGACCATTGCGACTATATAACCCGGAGGCTCAGCATGAGACAGCGTACTCGACCATGAGCACGAAAAATGAACAGTACCCGGGCCCACCGAGACTAGCAACACGTCATATCAAGCCCCACGGGATCCTGAACATAACTACCTAACCGGCAAACGGGATTAGGAGCTCCAACAATCACACTTCAAGTGCCACGACAGAGCGGTAAAATTTCTTCCACATTCATAGGCCAGTATAAGTCCGGCAGAAATAGGAACACTCACACATAATCAAATAACAACACCCATCCGTATCAAATACTGAGCACTACGGGTATTGCCTGCGCCTAAAATTTCGGTTTTACATGACCCCAAGTCTCATGCAAATCCGGTGATCAGTGAACAGGGCGAACAATCAAATCATTAACAGAGGGACCCAGCGTTCTGTAACTTAAGCAGGTGAACTTTGACCGCACAGACGTAAACCTACGCAAGTAACGGTACAATAAATCTGATCCATTAGACCAATACCAGCATCGTAATAACCTCAGAACAGACTGACAAATACCATTGCTAAGACGAGAGCTCTTAATCGAGCATCAGGAGAACCGGTCAACGAAAACTCAGATGAGGCTTATATAAATACCGATCTTTGGCATTTACCCGGGCCAGAAGAAGTCTAGAGCCCGGGATAACCTACCTGGCAAACACCCAGCGCGCAGATCCAACGTCAATGTAAACTGCTTAATTACCTGAGCAACTTGGTCAAGAAGGCTGTTCCTAGGCATTCGAGTGAGGTACGTGAAAGCTCCGTACAATAAAAGCAAACAACAACTCCAGAAGAACGTGCCAGAGTAAAGCCCAAAGCTCATGGCTGTGCCATAGATCGGTTAGTACGGCATAAAAGGCCTCACAAAT\n",
      "A: 1 3 2 4 4 3 2 4 3 4 4 2 1 2 2 2 2 3 3 0 2 2 3 4 0 4 3 2 3 3 2 1 3 4 6 3 1 3 3 2 5 1 5 2 1 3 2 0 3 2 1 2 4 2 3 2 0 2 4 3 1 5 2 2 1 1 1 5 3 2 4 3 3 0 4 3 2 2 0 0 2 5 2 2 2 1 1 3 2 2 3 0 2 3 2 4 1 4 2 3 3 2 4 2 4 2 1 5 2 3 4 3 1 3 3 3 3 2 1 4 5 4 3 3 2 2 3 4 1 4 2 2 4 2 1 2 3 3 2 2 2 0 6 0 3 2 4 2 4 3 2 5 1 2 4 5 1 3 2 2 1 2 4 4 4 1 3 4 3 2 2 2 3 2 4 2 1 3 1 4 3 2 1 2 1 4 3 1 4 0 4 3 2 2 5 2 2 2 3 3 2 2 2 1 1 3 3 3 0 2 2 2 4 1 2 4 1 2 3 2 1 2 1 3 3 3 2 4 5 1 1 4 2 5 2 1 3 2 4 6 2 0 2 1 2 3 3 2 4 1 3 2 6 2 0 1 1 3 3 3 5 4 3 1 3 0 0 2 3 1 5 3 5 2 2 1 4 3 3 2 0 3 3 4 1 3 3 0 5 4 2 3 1 3 2 2 2 4 2 3 3 3 1 3 2 1 4 3 1 5 1 2 3 3 2 5 2 4 0 4 4 1 3 4 3 5 1 3 4 1 3 5 1 4 3 3 2 5 2 0 3 2 3 4 2 1 4 3 3 2 3 2 2 1 3 2 3 4 1 2 5 2 1 2 1 3 4 3 3 2 0 0 3 2 0 2 0 2 1 5 4 3 3 2 2 2 1 1 2 1 3 0 1 4 2 3 3 1 4 0 1 2 2 3 5 1 3 2 3 2 4 2 3 1 4 3 3 1 2 2 0 2 2 2 4 0 2 4 2 2 2 7 4 1 5 2 2 1 4 1 4 3 3 4 5 2 0 3 5 3 2 2 4 0 2 5 4 1 3 3 3 1 1 1 5 2 2 1 3 2 1 2 3 2 1 1 2 1 4 4 2 1 0 4 4 2 1 4 2 0 0 3 5 5 3 3 2 3 2 5 0 2 1 2 4 1 4 0 3 1 3 2 4 4 4 2 2 2 3 1 1 3 3 5 2 1 5 4 1 2 1 2 3 0 4 4 3 6 6 5 2 1 3 2 5 2 1 1 5 4 2 4 2 3 2 2 4 5 2 3 0 0 4 3 4 4 2 2 1 2 4 3 2 4 4 1 1 1 1 4 2 8 4 2 4 3 4 4 1 2 4 2 3 5 4 2 4 2 3 4 2 2 2 1 2 3 5 3 4 0 1 3 3 6 1 1 2 3 2 3 4 4 1 2 2 6 2 1 4 2 2 3 3 1 4 3 3 4 2 2 1 2 2 1 4 6 1 2 5 5 4 6 2 3 2 4 1 4 0 2 3 3 3 3 3 1 3 3 4 2 3 5 4 1 5 1 2 1 4 1 1 3 2 1 1 1 3 3 1 2 0 3 3 1 2 2 2 2 0 1 3 1 3 3 2 4 3 3 3 3 1 5 3 4 2 1 2 3 1 0 2 5 1 4 3 1 2 3 3 1 2 1 1 2 3 5 3 3 2 4 3 2 2 4 0 4 2 3 2 1 4 2 4 3 2 3 5 4 1 2 1 2 3 4 2 2 3 4 5 4 2 1 2 1 2 1 4 4 2 2 4 2 1 1 1 5 1 2 3 4 2 2 1 0 1 1 2 3 3 0 4 4 1 1 2 2 2 1 1 1 1 3 4 2 3 2 5 2 2 1 1 4 0 1 3 4 2 2 2 4 3 1 3 2 5 3 3 3 1 2 2 3 1 2 3 1 4 4 3 4 4 3 3 2 2 3 4 6 2 4 3 2 3 5 2 3 3 3 5 2 5 3 1 4 7 2 3 3 2 1 2 4 1 4 2 1 5 4 3 3 3 2 0 4 3 3 3 2 1 3 5 1 3 2 1 2 1 1 2 2 1 3 3 3 3 3 3 2 2 0 1 1 6 3 1 3 2 3 1 1 4 1 5 4 4 5 2 2 1 3 2 3 4 3 3 4 5 2\n",
      "C: 1 1 1 1 1 1 2 2 1 2 3 3 3 6 1 3 0 3 2 3 4 5 2 1 1 1 2 3 3 2 3 1 3 3 2 0 2 2 1 0 2 2 0 3 2 0 3 3 3 2 3 3 2 3 1 2 3 0 2 4 5 0 0 3 3 3 1 1 4 2 4 2 2 3 1 3 4 4 5 2 2 3 1 2 3 2 3 2 3 3 3 2 1 3 2 2 5 2 1 4 1 1 4 3 1 3 2 1 3 4 1 2 0 1 1 4 2 5 1 3 1 2 2 3 3 2 3 0 4 0 2 0 2 4 4 4 0 3 0 4 3 4 0 4 4 2 4 2 1 5 3 2 2 4 2 1 5 3 3 2 3 3 3 1 2 3 4 1 2 2 4 5 4 3 3 3 2 1 3 4 1 3 5 1 3 3 2 4 3 3 1 3 5 3 0 4 4 1 1 2 4 4 2 1 6 3 2 3 4 1 2 0 2 1 1 2 2 0 3 2 3 2 5 5 2 3 4 2 0 1 4 2 3 2 3 3 2 3 2 1 2 2 2 5 3 2 4 1 3 5 3 2 2 2 4 2 2 0 3 3 2 4 2 3 0 5 3 1 4 4 2 4 3 2 1 4 2 1 3 1 4 5 5 1 3 0 3 4 2 4 3 1 5 4 3 2 4 3 3 3 2 2 3 2 2 2 4 3 4 2 5 2 4 2 4 3 4 3 2 1 3 1 4 3 3 2 3 1 1 5 2 2 3 2 4 4 3 0 1 5 4 2 1 2 1 4 2 2 2 2 2 3 1 1 3 2 4 3 4 2 2 4 2 1 3 1 1 1 2 3 4 5 2 2 5 2 5 3 1 2 1 3 3 1 2 2 3 2 1 3 2 1 2 3 3 3 1 1 2 6 3 3 5 3 1 1 2 3 1 4 2 0 1 4 2 3 2 2 3 5 4 1 3 3 2 3 4 1 0 2 3 2 2 6 1 2 2 3 5 3 2 2 4 2 1 3 4 2 3 2 3 4 0 2 1 1 1 4 2 1 2 3 3 3 2 3 4 3 2 3 3 3 2 3 4 2 2 2 1 2 3 2 3 4 1 2 4 3 2 3 3 1 0 4 4 1 2 3 0 1 7 4 3 3 3 3 3 2 2 3 0 2 3 3 3 3 4 1 3 3 2 4 3 3 2 3 1 1 6 2 3 1 2 4 1 4 1 0 0 2 3 3 1 2 1 1 6 4 2 1 2 3 2 3 3 4 3 1 3 3 6 6 2 1 5 1 2 5 1 2 2 2 3 4 4 3 4 4 5 2 3 1 2 3 1 1 1 5 2 3 2 5 2 1 1 3 3 5 4 2 1 2 3 4 2 1 0 2 1 4 2 1 2 1 2 4 1 5 3 1 2 1 2 5 2 1 1 4 3 1 3 1 1 2 1 2 2 2 5 4 1 2 2 5 1 0 7 1 1 3 2 0 4 2 5 3 2 4 2 2 3 1 3 4 1 3 2 0 3 2 3 3 4 2 3 4 5 2 4 3 3 2 1 3 2 2 4 2 2 1 3 3 4 6 3 3 2 0 4 4 3 3 3 3 2 2 2 2 1 4 2 1 2 1 2 3 3 5 3 2 2 2 2 2 1 5 3 1 1 5 4 2 2 1 4 2 2 3 3 1 4 4 4 2 3 6 2 4 2 3 2 2 3 0 3 4 0 2 5 1 2 3 3 3 2 2 1 3 1 3 3 2 1 4 1 2 1 1 3 3 1 3 5 2 2 2 0 4 2 4 4 3 2 1 2 3 3 3 2 1 1 2 2 1 4 1 2 2 2 3 4 1 2 2 1 5 3 0 2 4 2 1 3 2 1 2 2 1 3 2 4 3 1 2 3 2 2 1 3 2 5 4 1 2 2 4 0 1 2 3 3 2 2 2 4 1 0 0 3 2 3 3 2 2 4 2 4 4 2 3 1 2 2 1 1 4 0 0 2 3 3 2 2 3 1 2 1 1 3 2 5 4 7 1 3 2 1 3 3 4 0 2 2 2 5 2 1 1 1 4 3 2 0 3 1 3 1 4 1 2 2 2 2 2 3 2 3 2 3 5 1 2 2 1 4 2 2 0 3 6 3 4 0 4 2 2 0 1\n",
      "G: 3 3 6 2 1 1 0 3 3 1 0 2 5 1 6 3 4 2 1 3 3 1 3 2 4 2 2 3 4 4 1 4 4 1 0 4 4 4 4 5 3 1 4 3 4 4 1 1 2 5 4 4 2 4 1 1 1 5 2 3 2 0 1 1 4 3 4 3 1 2 1 1 3 3 1 2 1 3 3 4 4 1 5 3 2 3 3 2 4 3 3 2 4 3 3 2 2 1 5 0 4 3 2 3 0 3 4 4 3 0 2 1 5 3 4 1 2 1 5 2 2 3 3 2 1 3 3 2 4 4 3 2 1 2 4 3 5 4 4 3 3 4 2 3 2 3 1 4 4 0 1 1 4 3 3 1 2 3 2 3 2 3 2 0 4 1 2 3 2 5 2 2 1 3 2 2 4 4 4 1 2 3 3 3 5 3 3 2 2 2 1 1 2 0 1 4 1 2 3 2 1 2 3 4 1 2 2 2 2 5 3 5 2 1 1 2 4 6 2 3 3 2 2 0 3 2 3 2 3 3 3 0 3 1 3 2 1 3 1 1 3 3 3 1 3 3 1 5 2 3 2 3 2 5 3 6 5 3 2 2 1 2 1 0 3 2 3 3 2 3 3 2 1 1 1 3 2 2 3 4 5 1 2 4 4 3 1 1 2 1 4 2 2 1 4 3 3 2 4 2 2 3 2 3 3 5 1 3 4 1 0 1 2 2 2 0 1 2 2 2 1 3 2 1 3 0 2 3 4 4 2 1 3 3 2 1 2 5 3 2 2 4 2 2 3 3 3 3 3 2 3 2 2 4 2 4 1 2 3 1 1 1 4 5 4 2 1 1 1 5 2 2 1 4 5 3 2 2 3 1 3 2 2 3 2 1 3 4 5 2 1 3 3 1 3 2 2 5 1 1 3 2 2 2 4 5 1 3 2 1 1 3 4 3 2 1 3 3 3 3 5 6 1 4 1 3 0 2 4 2 4 0 3 0 1 3 4 4 1 5 1 2 1 3 1 1 4 2 1 3 0 0 2 3 2 2 1 2 2 6 3 4 5 4 1 3 1 3 2 5 3 4 1 1 3 3 6 3 2 3 2 3 3 2 4 4 2 1 5 5 3 5 0 0 2 2 1 0 6 2 3 2 5 2 1 3 1 5 3 3 4 2 2 2 1 3 3 3 2 3 4 1 2 1 3 1 2 2 0 3 5 2 2 3 3 0 2 1 2 2 1 3 0 4 1 3 1 3 1 0 2 0 4 2 2 3 1 3 1 1 3 2 1 4 1 2 2 3 4 2 0 3 1 1 2 3 2 0 1 2 4 1 1 3 3 4 2 0 2 4 3 2 3 1 2 1 2 3 3 1 2 1 4 2 1 3 2 4 1 2 4 3 4 1 4 3 3 1 1 1 2 4 3 2 4 1 5 3 1 2 3 3 4 4 3 4 3 4 3 0 4 4 2 3 2 4 1 5 1 0 2 1 2 1 2 1 4 1 3 5 2 5 4 2 2 2 3 2 2 1 1 0 1 3 0 2 1 5 0 2 3 0 3 2 5 4 0 3 3 3 3 1 2 2 2 4 3 5 3 2 2 5 1 3 3 1 2 4 2 0 3 4 4 1 3 3 2 1 4 6 5 2 3 0 3 3 3 1 3 1 4 3 4 4 1 2 3 1 3 2 2 2 2 3 4 0 3 0 3 3 3 3 1 3 3 2 3 3 0 4 1 3 1 2 2 3 2 2 2 2 3 2 4 4 2 3 4 4 1 1 2 3 2 2 5 1 6 0 2 1 3 1 3 5 4 2 2 1 2 8 2 3 4 4 3 3 4 3 3 3 1 2 2 4 4 3 0 3 2 2 4 1 5 1 4 1 3 4 1 3 2 4 2 4 1 2 3 4 3 2 1 2 4 2 2 3 3 3 1 3 1 2 2 4 1 3 3 3 3 0 3 3 3 1 2 1 1 2 2 4 3 2 6 1 0 3 4 3 5 3 3 1 4 0 5 2 2 2 2 4 2 2 1 2 2 2 5 2 2 1 2 3 4 3 2 2 4 3 4 2 3 3 3 1 4 3 2 1 5 4 1 3 1 4 1 2 3 4 4 1 4 3 2 4 1 0 3 6 3 0 1 3 3 1 3 2 2 3\n",
      "T: 5 3 1 3 4 5 6 1 3 3 3 3 1 1 1 2 4 2 4 4 1 2 2 3 5 3 3 2 0 1 4 4 0 2 2 3 3 1 2 3 0 6 1 2 3 3 4 6 2 1 2 1 2 1 5 5 6 3 2 0 2 5 7 4 2 3 4 1 2 4 1 4 2 4 4 2 3 1 2 4 2 1 2 3 3 4 3 3 1 2 1 6 3 1 3 2 2 3 2 3 2 4 0 2 5 2 3 0 2 3 3 4 4 3 2 2 3 2 3 1 2 1 2 2 4 3 1 4 1 2 3 6 3 2 1 1 2 0 4 1 2 2 2 3 1 3 1 2 1 2 4 2 3 1 1 3 2 1 3 3 4 2 1 5 0 5 1 2 3 1 2 1 2 2 1 3 3 2 2 1 4 2 1 4 1 0 2 3 1 5 4 3 1 5 4 0 3 5 3 3 3 2 3 4 2 2 3 2 4 2 3 3 2 7 6 2 3 2 2 3 3 4 2 2 2 2 1 2 2 5 2 4 2 2 2 4 4 2 3 2 3 5 3 3 2 2 2 2 1 1 2 3 0 1 3 1 2 4 2 2 2 0 4 6 4 3 4 4 1 2 0 1 1 5 6 2 2 4 1 3 1 1 0 1 2 4 3 5 1 1 1 4 2 2 1 3 1 1 1 2 3 2 4 2 3 2 1 1 1 2 4 5 1 3 2 2 3 1 6 3 2 5 1 2 1 3 4 3 1 0 3 2 3 1 1 2 3 0 4 3 1 2 4 2 4 2 1 2 2 4 2 3 5 4 2 2 2 1 2 5 2 3 3 2 2 4 4 5 4 0 4 3 4 2 0 3 3 3 5 2 2 2 2 4 4 5 3 3 2 4 4 6 4 2 2 2 4 3 3 3 3 3 1 2 0 3 4 2 4 3 3 5 2 2 2 3 2 4 2 0 1 1 4 1 3 4 4 3 4 4 1 1 1 3 3 3 2 2 0 1 3 3 2 1 3 4 2 3 1 2 5 4 4 5 5 2 4 3 3 0 2 2 1 2 2 2 3 3 3 0 3 1 4 4 2 4 0 4 3 1 3 4 4 0 1 2 3 2 1 2 4 1 5 1 1 4 5 4 2 2 0 2 1 3 2 3 2 3 2 3 3 4 1 1 2 2 1 4 2 3 3 2 2 1 3 5 2 3 3 3 1 5 3 3 2 2 4 3 2 1 4 3 6 2 3 4 2 2 2 5 4 3 2 2 3 1 2 1 4 3 1 2 3 2 0 3 4 0 4 4 4 2 4 1 0 3 3 5 3 2 1 0 3 2 2 2 3 1 5 1 1 1 2 3 3 4 1 0 0 3 5 5 1 3 5 3 3 1 4 4 3 3 1 2 3 2 4 1 4 5 2 1 4 1 2 2 2 2 2 5 2 3 2 3 2 1 2 0 0 4 4 2 4 1 3 0 1 2 3 2 2 3 2 4 1 2 3 1 5 1 2 1 0 1 4 4 2 5 1 5 3 2 1 4 2 3 2 2 2 4 3 5 4 4 2 3 3 2 4 4 4 3 1 1 3 1 3 3 3 3 2 1 3 1 3 3 3 1 4 3 4 0 1 4 3 3 3 1 2 2 1 1 4 4 3 1 2 5 3 3 0 4 3 3 2 1 2 3 2 3 1 2 2 1 3 0 3 3 3 3 1 3 2 4 2 1 2 1 4 3 6 2 3 1 4 3 4 1 2 1 2 5 3 1 5 4 1 1 4 4 3 2 2 5 2 2 3 4 3 1 1 4 4 4 3 4 3 3 3 1 3 1 3 4 1 4 2 4 4 3 4 4 2 2 2 0 2 5 4 3 3 4 2 6 2 3 3 3 4 1 1 2 4 2 1 3 2 2 3 4 2 1 4 4 3 2 3 2 4 0 2 3 3 2 3 3 3 1 2 4 1 2 2 2 2 4 2 1 1 1 1 3 1 4 2 1 3 4 1 3 2 3 3 3 2 5 2 3 2 1 0 2 2 3 2 3 1 3 4 2 3 4 1 3 2 4 4 5 3 2 3 2 4 3 2 1 4 3 2 4 6 4 1 1 5 3 2 1 2 3 1 4 1 1 1 3 3 2 3 1 4 0 3 2 2 2 3 4\n"
     ]
    }
   ],
   "source": [
    "print(consensus(prof_mat))\n",
    "for k in ['A', 'C', 'G', 'T']:\n",
    "      print(k + \": \" + \" \".join(str(x) for x in prof_mat[k]))"
   ]
  },
  {
   "cell_type": "code",
   "execution_count": null,
   "metadata": {},
   "outputs": [],
   "source": []
  },
  {
   "cell_type": "code",
   "execution_count": null,
   "metadata": {},
   "outputs": [],
   "source": []
  },
  {
   "cell_type": "code",
   "execution_count": null,
   "metadata": {},
   "outputs": [],
   "source": []
  },
  {
   "cell_type": "code",
   "execution_count": null,
   "metadata": {},
   "outputs": [],
   "source": []
  },
  {
   "cell_type": "code",
   "execution_count": null,
   "metadata": {},
   "outputs": [],
   "source": []
  },
  {
   "cell_type": "code",
   "execution_count": null,
   "metadata": {},
   "outputs": [],
   "source": []
  }
 ],
 "metadata": {
  "kernelspec": {
   "display_name": "Python 3",
   "language": "python",
   "name": "python3"
  },
  "language_info": {
   "codemirror_mode": {
    "name": "ipython",
    "version": 3
   },
   "file_extension": ".py",
   "mimetype": "text/x-python",
   "name": "python",
   "nbconvert_exporter": "python",
   "pygments_lexer": "ipython3",
   "version": "3.7.0"
  }
 },
 "nbformat": 4,
 "nbformat_minor": 2
}
