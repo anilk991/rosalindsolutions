{
 "cells": [
  {
   "cell_type": "code",
   "execution_count": 4,
   "metadata": {},
   "outputs": [],
   "source": [
    "from Bio import pairwise2\n",
    "from Bio import SeqIO\n",
    "from Bio.SubsMat.MatrixInfo import blosum62"
   ]
  },
  {
   "cell_type": "code",
   "execution_count": 1,
   "metadata": {},
   "outputs": [],
   "source": [
    "peps = ['PLEASANTLY', 'MEANLY']"
   ]
  },
  {
   "cell_type": "code",
   "execution_count": 2,
   "metadata": {},
   "outputs": [],
   "source": [
    "def read_file(path):\n",
    "    '''\n",
    "    '''\n",
    "    from Bio import SeqIO\n",
    "    seqs = []\n",
    "    with open(path, 'r') as h:\n",
    "        for record in SeqIO.parse(h, \"fasta\"):\n",
    "            seqs.append(str(record.seq))\n",
    "    return seqs[0], seqs[1]"
   ]
  },
  {
   "cell_type": "code",
   "execution_count": 3,
   "metadata": {},
   "outputs": [],
   "source": [
    "path = \"/Users/anilkumar/projectEEG/rosalind_glob.txt\""
   ]
  },
  {
   "cell_type": "code",
   "execution_count": 7,
   "metadata": {},
   "outputs": [
    {
     "name": "stdout",
     "output_type": "stream",
     "text": [
      "PLEASANTLY\n",
      " .|  || ||\n",
      "-ME--AN-LY\n",
      "  Score=8\n",
      "\n"
     ]
    }
   ],
   "source": [
    "alignments = pairwise2.align.globalds(peps[0], peps[1], blosum62, -5, -5)\n",
    "print(pairwise2.format_alignment(*alignments[0]))"
   ]
  },
  {
   "cell_type": "code",
   "execution_count": 8,
   "metadata": {},
   "outputs": [],
   "source": [
    "s, t = read_file(path)"
   ]
  },
  {
   "cell_type": "code",
   "execution_count": 9,
   "metadata": {},
   "outputs": [
    {
     "name": "stdout",
     "output_type": "stream",
     "text": [
      "KIMQTGTDLIKWDFIHFFEKAYWMWST------FICVW-----QAN--RHLKDLFGMMMLTLSQVKNLYCIYGIFFIEFSCMLWRIMKVWACITEHYCIQFYRMVGPQLPMVNCATSYDAEVCYEIIHAIAYPCSRSNIS-GHHV-MSRMS--LCPSMWVTITCDSGHQQCQWWKEGVIDITQVQHCKSMMHTDQRSCM-KVECANPMRTSISQLLETYHQKLDTILHLLWGRH---LMKVACQCS---M--WPWMQREMWQQHNMKGL-Y---EQWSCATYQLWYFTLLLKDFAGGF-RILEGIASGHNGSFISSIYTTMFGAPSQ--M-GQWIHMMCEFYGNWAAFFEARHWCSMSCEATRTWYVEVFINQKETGGHAMCSEWWVTGQTALP---W-N--M--NQYSIYPLWTNFHMSQAQGYQE-W----KKQYVKMWWRNSQQIFFFTGYWIRSW-------AVRH-----PLTAPQHDFCVIIHAIAWWRARIVCYKQDTSTTT-TQD-HHDDHPTMQDLLYILSREWNSF--P--------NDNCYWMDFTVYFMYTHRLE-MIVWLE-S-WWDCHRWKDIFGYEGLFCTITCAMYSYMEFMWEVEWLPFVTPMVQTWLVCGASEDNLHTSVP-DG-S-CLHWSWPVQVYDGQHVFGILSQNKFMMNNYKKCFGNMIIKTRCSKGHPSIPEQHHMISLQC--KMV-DD---CHVHF-CV--FKTLHPF-N----KMRFDRKPCYLMCTSGCGGKMLNQLQRAGNEQHVFRDGMTETRNTANSFVMPHICKEAIKKDYFWVWFLTFKQSSPSITPFMEGWKVEHNYFPAGMAPWRTRKNFFEGPGWEIINPWYRFWI-N-YITTVE-KEELIL\n",
      "||||||||.||||||||||||||||||      .||||     |..  ||||||||  |...|. .. . |  . . .|||||||||||||||||||    | .|  .   |.....|  . .|..|||||||||||||| |... ..|.|  ....|.|||||.| |..|||||||||||||||||||||||||||.| .|||||||||||      |...|  ||.||||||   .||||||||   |  ||||  |||||.||||| .   ||||||||||||||  |....... |||||||.|||||||.||||||||||||  | |||||||||| ||||||.||||.||||||||.||.||||||||||||||||||||.  |.|||   | .  .  |||||||||||||||||||||| .    |||||.||||||||||||||||||||       ...|     ||||||||||.|||||||||.||||||....... |.| ....|||.||||||.||||||.  |        ||.||||.|.|||||..... ||||.. | ..| ||||.||| ...  ...|         |.||||||   ||||||||||||||||.|.| .. . |.|.|||||.|||||||||.|||    |.| |  |.... |    ||   |||||.|...|  ... ..   ||||| |.  ..||||| .    ||||||||    ||.||||||||  |. |||||| |.......|||.||||||..|.|||||||  ||.. |||||.|||||||  .  .|  . .   |||||||||||||||||.||.|| . ...... |||.||\n",
      "KIMQTGTDFIKWDFIHFFEKAYWMWSTKETAKKYICVWWAWSGQESIMRHLKDLFG--MAAWSR-SE-F-I--M-W-NFSCMLWRIMKVWACITEHY----Y-IV--H---VYWFKLY--Q-SYDLIHAIAYPCSRSNISKGQGGGQQRYSNWFFKTMSVTITCYS-HYPCQWWKEGVIDITQVQHCKSMMHTDQRSQMIEVECANPMRTSI------YYCAL--ILLLLWGRHNQQFMKVACQCSGQPMMPWPWM--EMWQQCNMKGLPIPRIEQWSCATYQLWYFT--LDHHEPNYNRILEGIAKGHNGSFIPSIYTTMFGAPSQNVMHGQWIHMMCEF-GNWAAFLEARHMCSMSCEATSTWWVEVFINQKETGGHAMCSEWWM--QWALPRNSWFSEKICENQYSIYPLWTNFHMSQAQGYQEMYATEIKKQYVNMWWRNSQQIFFFTGYWIRSWQGTQTPCSLKHGIVCHPLTAPQHDFCQIIHAIAWWRFRIVCYKKHCEMNPDTPDWYQQNHPTAQDLLYINSREWNSMMCPDTEFYQFMNDECYWMEFMVYFMYVYHVSLMIVWNGGSPSGD-HRWKIIFG-NRR--SPRC---------WMVEWLPF---MVQTWLVCGASEDNLHQSDPWPWFRWCEHLSWPVQWYDGQHVFGIESQN----NLY-K--GKHSV-T----GH---PEQHHGIFYPCFWSFQPNSGKMCHVHFNCPRSVETLHPFQHQAFCKMRFDRKP----CTGGCGGKMLN--QN-GNEQHV-RKLCFKWQNTAGSFVMPHDKKDAIKKDYF--WFMN-KQSSPYITPFMEG--L--GY--K-V---RTRKNFFEGPGWEIINPAYRPWIVKKFLDVIPGKEEWIL\n",
      "  Score=2100\n",
      "\n"
     ]
    }
   ],
   "source": [
    "alignments = pairwise2.align.globalds(s, t, blosum62, -5, -5)\n",
    "print(pairwise2.format_alignment(*alignments[0]))"
   ]
  },
  {
   "cell_type": "code",
   "execution_count": null,
   "metadata": {},
   "outputs": [],
   "source": []
  }
 ],
 "metadata": {
  "kernelspec": {
   "display_name": "Python 3",
   "language": "python",
   "name": "python3"
  },
  "language_info": {
   "codemirror_mode": {
    "name": "ipython",
    "version": 3
   },
   "file_extension": ".py",
   "mimetype": "text/x-python",
   "name": "python",
   "nbconvert_exporter": "python",
   "pygments_lexer": "ipython3",
   "version": "3.7.0"
  }
 },
 "nbformat": 4,
 "nbformat_minor": 2
}
