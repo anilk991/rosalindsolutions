{
 "cells": [
  {
   "cell_type": "code",
   "execution_count": 3,
   "metadata": {},
   "outputs": [],
   "source": [
    "import re"
   ]
  },
  {
   "cell_type": "code",
   "execution_count": 1,
   "metadata": {},
   "outputs": [],
   "source": [
    "handle = open(\"/Users/anilkumar/projectEEG/rosalind_perm (3).txt\").readlines()"
   ]
  },
  {
   "cell_type": "code",
   "execution_count": 23,
   "metadata": {},
   "outputs": [],
   "source": [
    "MassT = {}\n",
    "for h in handle:\n",
    "    Aa, mi = h.split(\"   \")[:2]\n",
    "    MassT[Aa] = float(mi)"
   ]
  },
  {
   "cell_type": "code",
   "execution_count": 31,
   "metadata": {},
   "outputs": [],
   "source": [
    "handle = open(\"/Users/anilkumar/projectEEG/rosalind_spec (1).txt\").readlines()\n",
    "masses = [float(h) for h in handle]"
   ]
  },
  {
   "cell_type": "code",
   "execution_count": 24,
   "metadata": {},
   "outputs": [],
   "source": [
    "masses = [3524.8542,\n",
    "3710.9335,\n",
    "3841.974,\n",
    "3970.0326,\n",
    "4057.0646,]"
   ]
  },
  {
   "cell_type": "code",
   "execution_count": null,
   "metadata": {},
   "outputs": [],
   "source": []
  },
  {
   "cell_type": "code",
   "execution_count": 32,
   "metadata": {},
   "outputs": [
    {
     "name": "stdout",
     "output_type": "stream",
     "text": [
      "AGHHLEKGAEVERHFVTVGMDRLTSNGCFHVLCSYANFQTKDSRHSAATLLHTNWVPLPKCVCYSYYFALNMAYDKLVEW\n"
     ]
    }
   ],
   "source": [
    "aa_masses = []\n",
    "for i in range(1, len(masses)):\n",
    "    aa_mass = round(masses[i] - masses[i - 1], 4)\n",
    "    aa_masses.append(aa_mass)\n",
    "    \n",
    "rnd_mass_table = {}\n",
    "for k, v in MassT.items():\n",
    "    rnd_mass_table[round(v, 4)] = k\n",
    "\n",
    "prot = ''\n",
    "for aa in aa_masses:\n",
    "    prot += rnd_mass_table[aa]\n",
    "\n",
    "print(prot)"
   ]
  },
  {
   "cell_type": "code",
   "execution_count": null,
   "metadata": {},
   "outputs": [],
   "source": []
  },
  {
   "cell_type": "code",
   "execution_count": null,
   "metadata": {},
   "outputs": [],
   "source": []
  }
 ],
 "metadata": {
  "kernelspec": {
   "display_name": "Python 3",
   "language": "python",
   "name": "python3"
  },
  "language_info": {
   "codemirror_mode": {
    "name": "ipython",
    "version": 3
   },
   "file_extension": ".py",
   "mimetype": "text/x-python",
   "name": "python",
   "nbconvert_exporter": "python",
   "pygments_lexer": "ipython3",
   "version": "3.7.0"
  }
 },
 "nbformat": 4,
 "nbformat_minor": 2
}
