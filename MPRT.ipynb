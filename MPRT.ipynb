{
 "cells": [
  {
   "cell_type": "code",
   "execution_count": null,
   "metadata": {},
   "outputs": [],
   "source": []
  },
  {
   "cell_type": "code",
   "execution_count": 53,
   "metadata": {},
   "outputs": [],
   "source": [
    "from Bio import SeqIO\n",
    "from Bio import ExPASy\n",
    "import re"
   ]
  },
  {
   "cell_type": "code",
   "execution_count": 232,
   "metadata": {},
   "outputs": [],
   "source": [
    "file = open(\"/Users/anilkumar/projectEEG/rosalind_mprt (4).txt\")\n",
    "uniIds = file.readlines()"
   ]
  },
  {
   "cell_type": "code",
   "execution_count": 233,
   "metadata": {},
   "outputs": [],
   "source": [
    "uniIds = [ID.replace(\"\\n\", \"\") for ID in uniIds]"
   ]
  },
  {
   "cell_type": "code",
   "execution_count": null,
   "metadata": {},
   "outputs": [],
   "source": []
  },
  {
   "cell_type": "code",
   "execution_count": 234,
   "metadata": {},
   "outputs": [],
   "source": [
    "def strtSites(Ids):\n",
    "    for Id in Ids:\n",
    "        with ExPASy.get_sprot_raw(Id) as handle:\n",
    "            seq_record = SeqIO.read(handle, \"swiss\")\n",
    "        #match = re.search(r'N.[ST].', str(seq_record), flags=re.IGNORECASE)\n",
    "        if re.search(r'N(?=[^P](S|T)[^P])', str(seq_record.seq), flags=re.IGNORECASE):\n",
    "            print(Id)\n",
    "            sites = []\n",
    "            for match in re.finditer(r'N(?=[^P](S|T)[^P])', str(seq_record.seq), flags=re.I):\n",
    "                sites.append(str(match.start() + 1))\n",
    "            s = \" \"\n",
    "            print(s.join(sites))\n",
    "        #print(Id+\"\\n\"+str(match.start()))"
   ]
  },
  {
   "cell_type": "code",
   "execution_count": 235,
   "metadata": {},
   "outputs": [
    {
     "name": "stdout",
     "output_type": "stream",
     "text": [
      "Q2YCH6\n",
      "249\n",
      "P04441_HG2A_MOUSE\n",
      "113 119 239 253\n",
      "P05783_K1CR_HUMAN\n",
      "193 423\n",
      "P81428_FA10_TROCA\n",
      "254\n",
      "P09791_PARB_TRYBB\n",
      "56\n",
      "P11831_SRF_HUMAN\n",
      "319 490\n",
      "P01044_KNH1_BOVIN\n",
      "47 87 168 169 197 204\n",
      "Q1E9Q9\n",
      "185 255 347 640 1326\n",
      "P00744_PRTZ_BOVIN\n",
      "59 191 289\n",
      "P02750_A2GL_HUMAN\n",
      "79 186 269 306 325\n"
     ]
    }
   ],
   "source": [
    "strtSites(uniIds)"
   ]
  },
  {
   "cell_type": "code",
   "execution_count": null,
   "metadata": {},
   "outputs": [],
   "source": []
  }
 ],
 "metadata": {
  "kernelspec": {
   "display_name": "Python 3",
   "language": "python",
   "name": "python3"
  },
  "language_info": {
   "codemirror_mode": {
    "name": "ipython",
    "version": 3
   },
   "file_extension": ".py",
   "mimetype": "text/x-python",
   "name": "python",
   "nbconvert_exporter": "python",
   "pygments_lexer": "ipython3",
   "version": "3.7.0"
  }
 },
 "nbformat": 4,
 "nbformat_minor": 2
}
