{
 "cells": [
  {
   "cell_type": "markdown",
   "metadata": {},
   "source": [
    "#### Find motif in a DNA Sequence"
   ]
  },
  {
   "cell_type": "code",
   "execution_count": 55,
   "metadata": {},
   "outputs": [],
   "source": [
    "seq = '''ACTTAGTACATTCCAACTTAGTTAGCACTTAGTTCACTTAGTACTTAGTTCCCGGACAAACTTAGTGATTACTTAGTACTTAGT\n",
    "TACTTAGTACTTAGTCACTTAGTCAGACTTAGTTCGCACACTTAGTGAGACTT\n",
    "AGTGACTTAGTACTTAGTACTTAGTACATACTTAGTAACTTAGTACTTAGTACTTAGTCG\n",
    "AACTTAGTACTTAGTTATGACTACTTAGTACTTAGTGTTTTAACTTAGTGCTACGACTTAGTCACTTAGTACTTA\n",
    "GTGCGACTTAGTGGGACTACTTAGTTGAAACTTAGTCTACTTAGTAACCGTGGCTGCTTCACTTAGTAACTTAGTA\n",
    "TCGTACTTAGTATCAACTTAGTCAGAACTTAGTACTTAGTACGATACTTAGTTCGGACTTAGTACTTAGTACTTAGT\n",
    "CTTCTGTACACTTAGTTCTTAGGAGCACTTAGTCGCACTTAGTACTTAGTGGCACTTAGTACAACGACTTAGTTTAGCTTGAACTT\n",
    "AGTACTTAGTACTTAGTTAGTACTTAGTACTTAGTACTTAGTACTTAGTAACTTAGTCCCTACTTAGTATCACTTAGTCACTTAGTCGACT\n",
    "TAGTAGGAACTTAGTTTCAACTTAGTACTTAGTCGTACTTAGTACCACCACTTAGTGTACTTAGTCACCTTCTAACTTAGTCGTGAACAGAAC\n",
    "TTAGTTCCCAACTTAGTAACTTAGTATACTTAGTACTTAGTACTTAGTACTTAGTAACTTAGTCACTTAGTTCTACTGACTAGGATACGAACAT\n",
    "TAACTTAGTTACTTAGTATCCGTTGTCACTTAGTAACTTAGTCAAGACTTAGTCCACTTAGTACTTAGTACAAGCCAACTTAGTAT'''\n",
    "motif = 'ACTTAGTAC'"
   ]
  },
  {
   "cell_type": "code",
   "execution_count": 41,
   "metadata": {},
   "outputs": [],
   "source": [
    "i = 0\n",
    "j = len(motif)\n",
    "start = []\n",
    "while i < len(seq):\n",
    "    temp = seq[i:i + j]\n",
    "    if temp == motif:\n",
    "        start.append(i + 1)\n",
    "    i += 1"
   ]
  },
  {
   "cell_type": "code",
   "execution_count": 54,
   "metadata": {},
   "outputs": [
    {
     "name": "stdout",
     "output_type": "stream",
     "text": [
      "1 36 71 86 142 149 156 175 182 199 220 261 375 382 405 412 462 479 508 515 533 540 547 622 639 723 730 737 845 852\n"
     ]
    }
   ],
   "source": [
    "print(*start)"
   ]
  },
  {
   "cell_type": "code",
   "execution_count": null,
   "metadata": {},
   "outputs": [],
   "source": []
  },
  {
   "cell_type": "code",
   "execution_count": null,
   "metadata": {},
   "outputs": [],
   "source": []
  },
  {
   "cell_type": "code",
   "execution_count": null,
   "metadata": {},
   "outputs": [],
   "source": []
  }
 ],
 "metadata": {
  "kernelspec": {
   "display_name": "Python 3",
   "language": "python",
   "name": "python3"
  },
  "language_info": {
   "codemirror_mode": {
    "name": "ipython",
    "version": 3
   },
   "file_extension": ".py",
   "mimetype": "text/x-python",
   "name": "python",
   "nbconvert_exporter": "python",
   "pygments_lexer": "ipython3",
   "version": "3.7.0"
  }
 },
 "nbformat": 4,
 "nbformat_minor": 2
}
