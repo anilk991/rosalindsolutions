{
 "cells": [
  {
   "cell_type": "code",
   "execution_count": null,
   "metadata": {},
   "outputs": [],
   "source": []
  },
  {
   "cell_type": "code",
   "execution_count": 63,
   "metadata": {},
   "outputs": [],
   "source": [
    "def permutations(n):\n",
    "    \n",
    "    nPerms = n * (n - 1)\n",
    "    print(nPerms)\n",
    "    \n",
    "    nums = []\n",
    "    for i in range(1, n + 1):\n",
    "        nums.append(str(i))\n",
    "    \n",
    "    new_nums= []\n",
    "    temp_n = \n",
    "    for i in range(n):\n",
    "        temp = nums\n",
    "        while "
   ]
  },
  {
   "cell_type": "code",
   "execution_count": 65,
   "metadata": {},
   "outputs": [
    {
     "name": "stdout",
     "output_type": "stream",
     "text": [
      "12\n",
      "2 1 3 4\n",
      "3 1 2 4\n",
      "4 1 2 3\n",
      "1 4 2 3\n",
      "1 2 4 3\n",
      "1 3 4 2\n",
      "4 3 1 2\n",
      "4 1 3 2\n",
      "4 1 2 3\n",
      "3 1 2 4\n",
      "3 4 2 1\n",
      "3 4 1 2\n"
     ]
    }
   ],
   "source": [
    "permutations(4)"
   ]
  },
  {
   "cell_type": "code",
   "execution_count": 69,
   "metadata": {},
   "outputs": [],
   "source": [
    "from itertools import permutations"
   ]
  },
  {
   "cell_type": "code",
   "execution_count": 53,
   "metadata": {},
   "outputs": [],
   "source": [
    "def permGene(info):\n",
    "\n",
    "    count = 0\n",
    "    number = list(permutations(range(1,info + 1)))\n",
    "\n",
    "\n",
    "    for i in number:\n",
    "        count+=1\n",
    "    print(len(number))\n",
    "\n",
    "    for i in number:\n",
    "        print(' '.join(map(str,i)))"
   ]
  },
  {
   "cell_type": "code",
   "execution_count": 90,
   "metadata": {},
   "outputs": [],
   "source": [
    "a = ['1','2','3','4']"
   ]
  },
  {
   "cell_type": "code",
   "execution_count": 93,
   "metadata": {},
   "outputs": [],
   "source": []
  },
  {
   "cell_type": "code",
   "execution_count": null,
   "metadata": {},
   "outputs": [],
   "source": []
  },
  {
   "cell_type": "code",
   "execution_count": null,
   "metadata": {},
   "outputs": [],
   "source": []
  },
  {
   "cell_type": "code",
   "execution_count": null,
   "metadata": {},
   "outputs": [],
   "source": []
  },
  {
   "cell_type": "code",
   "execution_count": null,
   "metadata": {},
   "outputs": [],
   "source": []
  }
 ],
 "metadata": {
  "kernelspec": {
   "display_name": "Python 3",
   "language": "python",
   "name": "python3"
  },
  "language_info": {
   "codemirror_mode": {
    "name": "ipython",
    "version": 3
   },
   "file_extension": ".py",
   "mimetype": "text/x-python",
   "name": "python",
   "nbconvert_exporter": "python",
   "pygments_lexer": "ipython3",
   "version": "3.7.0"
  }
 },
 "nbformat": 4,
 "nbformat_minor": 2
}
