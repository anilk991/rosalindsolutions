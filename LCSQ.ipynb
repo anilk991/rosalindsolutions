{
 "cells": [
  {
   "cell_type": "code",
   "execution_count": 1,
   "metadata": {},
   "outputs": [],
   "source": [
    "from Bio import SeqIO"
   ]
  },
  {
   "cell_type": "code",
   "execution_count": 104,
   "metadata": {},
   "outputs": [],
   "source": [
    "handle = open(\"/Users/anilkumar/projectEEG/rosalind_lcsq (1).txt\")\n",
    "sequences = []\n",
    "for record in SeqIO.parse(handle, \"fasta\"):\n",
    "    sequences.append(str(record.seq))\n",
    "handle.close()"
   ]
  },
  {
   "cell_type": "code",
   "execution_count": 105,
   "metadata": {},
   "outputs": [],
   "source": [
    "s = sequences[0]\n",
    "t = sequences[1]"
   ]
  },
  {
   "cell_type": "code",
   "execution_count": 106,
   "metadata": {},
   "outputs": [],
   "source": [
    "def longest_subSeq(s, t):\n",
    "    '''\n",
    "    '''\n",
    "    lengths = [[0 for j in range(len(t) + 1)] for i in range(len(s) + 1)]\n",
    "    \n",
    "    for i, x in enumerate(s):\n",
    "        for j, y in enumerate(t):\n",
    "            if x == y:\n",
    "                lengths[i + 1][j + 1] = lengths[i][j] + 1\n",
    "            else:\n",
    "                lengths[i + 1][j + 1] = max(lengths[i + 1][j], lengths[i][j + 1])\n",
    "    \n",
    "    subseq = \"\"\n",
    "    \n",
    "    x, y = len(s), len(t)\n",
    "    \n",
    "    while x * y != 0:\n",
    "        if lengths[x][y] == lengths[x - 1][y]:\n",
    "            x -= 1\n",
    "        elif lengths[x][y] == lengths[x][y - 1]:\n",
    "            y -= 1\n",
    "        else:\n",
    "            subseq = s[x - 1] + subseq\n",
    "            x -= 1\n",
    "            y -= 1\n",
    "    return subseq"
   ]
  },
  {
   "cell_type": "code",
   "execution_count": 108,
   "metadata": {},
   "outputs": [
    {
     "name": "stdout",
     "output_type": "stream",
     "text": [
      "CCAGTGAAACGTCCTTGGAACTGTATGAAATCCATAGGTTTGATCTGAGCATTCAACTGTGGAGCTGAGCCAGGGTTCGAAGTCGTCGACCCATGACCGGGCTGATTCCTTAGCTGTAGTTCAAAAACCTCCGAAATAGCTAACCTCTAAATAAAGATTCTCTCATTCTTAGCGGAGAGCTGGCCCCGCTGACTGCGCGAACTTCACTGGCCACTGTCCACCGAGTATTCCAACTCTCATATTCCACATCCAGGCCCCGCCAAAAGCTGAGCGAGGAGTGGATTGTGTTGGAAACCAGCTTCGTACGACAAGTGTGTCCAAACACACGTAAATGCTATGCGCGGGATACTGATTTCAGCGAACACCGGGTCGGCCTGCCATATCTCCCCCATGTTCTGGAGCCCCGCTGAAAAATCTAGCCCAGTGCCGGCAGTGTCGGAGTTTGTACGGGAGGACCTCTCCCATAACCAAACAAACTGAAGATTTGGACGTGCCTTCTATGGCCGCGACCAGGAAGGTTCCAGAACACAAAGATCCAAAGTGAACACGCGGGGACTAGTGTGATC\n"
     ]
    }
   ],
   "source": [
    "print(longest_subSeq(s,t))"
   ]
  },
  {
   "cell_type": "code",
   "execution_count": null,
   "metadata": {},
   "outputs": [],
   "source": []
  },
  {
   "cell_type": "code",
   "execution_count": null,
   "metadata": {},
   "outputs": [],
   "source": []
  }
 ],
 "metadata": {
  "kernelspec": {
   "display_name": "Python 3",
   "language": "python",
   "name": "python3"
  },
  "language_info": {
   "codemirror_mode": {
    "name": "ipython",
    "version": 3
   },
   "file_extension": ".py",
   "mimetype": "text/x-python",
   "name": "python",
   "nbconvert_exporter": "python",
   "pygments_lexer": "ipython3",
   "version": "3.7.0"
  }
 },
 "nbformat": 4,
 "nbformat_minor": 2
}
