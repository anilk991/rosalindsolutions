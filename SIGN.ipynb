{
 "cells": [
  {
   "cell_type": "code",
   "execution_count": 26,
   "metadata": {},
   "outputs": [],
   "source": [
    "import itertools"
   ]
  },
  {
   "cell_type": "code",
   "execution_count": 31,
   "metadata": {},
   "outputs": [],
   "source": [
    "n = 3"
   ]
  },
  {
   "cell_type": "code",
   "execution_count": 21,
   "metadata": {},
   "outputs": [],
   "source": [
    "nums = [i for i in range(-n , n + 1) if i != 0]"
   ]
  },
  {
   "cell_type": "code",
   "execution_count": 22,
   "metadata": {},
   "outputs": [
    {
     "data": {
      "text/plain": [
       "[-5, -4, -3, -2, -1, 1, 2, 3, 4, 5]"
      ]
     },
     "execution_count": 22,
     "metadata": {},
     "output_type": "execute_result"
    }
   ],
   "source": [
    "nums"
   ]
  },
  {
   "cell_type": "code",
   "execution_count": 32,
   "metadata": {},
   "outputs": [],
   "source": [
    "nr = 0\n",
    "permutation = []\n",
    "for i in itertools.permutations(list(range(1, n + 1))):\n",
    "    for j in itertools.product([-1,1], repeat = len(list(range(1, n + 1)))):\n",
    "        perm = [a * sign for a, sign in zip(i, j)]\n",
    "        permutation.append(perm)\n",
    "        nr += 1"
   ]
  },
  {
   "cell_type": "code",
   "execution_count": 33,
   "metadata": {},
   "outputs": [
    {
     "name": "stdout",
     "output_type": "stream",
     "text": [
      "48\n",
      "-1 -2 -3\n",
      "-1 -2 3\n",
      "-1 2 -3\n",
      "-1 2 3\n",
      "1 -2 -3\n",
      "1 -2 3\n",
      "1 2 -3\n",
      "1 2 3\n",
      "-1 -3 -2\n",
      "-1 -3 2\n",
      "-1 3 -2\n",
      "-1 3 2\n",
      "1 -3 -2\n",
      "1 -3 2\n",
      "1 3 -2\n",
      "1 3 2\n",
      "-2 -1 -3\n",
      "-2 -1 3\n",
      "-2 1 -3\n",
      "-2 1 3\n",
      "2 -1 -3\n",
      "2 -1 3\n",
      "2 1 -3\n",
      "2 1 3\n",
      "-2 -3 -1\n",
      "-2 -3 1\n",
      "-2 3 -1\n",
      "-2 3 1\n",
      "2 -3 -1\n",
      "2 -3 1\n",
      "2 3 -1\n",
      "2 3 1\n",
      "-3 -1 -2\n",
      "-3 -1 2\n",
      "-3 1 -2\n",
      "-3 1 2\n",
      "3 -1 -2\n",
      "3 -1 2\n",
      "3 1 -2\n",
      "3 1 2\n",
      "-3 -2 -1\n",
      "-3 -2 1\n",
      "-3 2 -1\n",
      "-3 2 1\n",
      "3 -2 -1\n",
      "3 -2 1\n",
      "3 2 -1\n",
      "3 2 1\n"
     ]
    }
   ],
   "source": [
    "print(nr)\n",
    "for i in range(len(permutation)):\n",
    "    print(*permutation[i], sep=' ')"
   ]
  },
  {
   "cell_type": "code",
   "execution_count": null,
   "metadata": {},
   "outputs": [],
   "source": []
  }
 ],
 "metadata": {
  "kernelspec": {
   "display_name": "Python 3",
   "language": "python",
   "name": "python3"
  },
  "language_info": {
   "codemirror_mode": {
    "name": "ipython",
    "version": 3
   },
   "file_extension": ".py",
   "mimetype": "text/x-python",
   "name": "python",
   "nbconvert_exporter": "python",
   "pygments_lexer": "ipython3",
   "version": "3.7.0"
  }
 },
 "nbformat": 4,
 "nbformat_minor": 2
}
