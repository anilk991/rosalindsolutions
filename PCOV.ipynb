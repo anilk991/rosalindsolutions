{
 "cells": [
  {
   "cell_type": "code",
   "execution_count": null,
   "metadata": {},
   "outputs": [],
   "source": []
  },
  {
   "cell_type": "code",
   "execution_count": 1,
   "metadata": {},
   "outputs": [],
   "source": [
    "reads = ['ATTAC', 'TACAG', 'GATTA', 'ACAGA', 'CAGAT', 'TTACA', 'AGATT']"
   ]
  },
  {
   "cell_type": "code",
   "execution_count": 174,
   "metadata": {},
   "outputs": [],
   "source": [
    "def deBruijin(reads):\n",
    "    '''\n",
    "    '''\n",
    "    reads = set(reads)\n",
    "    #deG = []\n",
    "    deG = {}\n",
    "    for read in reads:\n",
    "        #deG.append((read[:-1], read[1:]))\n",
    "        deG[read[:-1]] = read[1:]\n",
    "        \n",
    "    return deG"
   ]
  },
  {
   "cell_type": "code",
   "execution_count": 175,
   "metadata": {},
   "outputs": [],
   "source": [
    "deG = deBruijin(reads)"
   ]
  },
  {
   "cell_type": "code",
   "execution_count": 176,
   "metadata": {},
   "outputs": [
    {
     "data": {
      "text/plain": [
       "{'TACA': 'ACAG',\n",
       " 'GATT': 'ATTA',\n",
       " 'ATTA': 'TTAC',\n",
       " 'AGAT': 'GATT',\n",
       " 'ACAG': 'CAGA',\n",
       " 'TTAC': 'TACA',\n",
       " 'CAGA': 'AGAT'}"
      ]
     },
     "execution_count": 176,
     "metadata": {},
     "output_type": "execute_result"
    }
   ],
   "source": [
    "deG"
   ]
  },
  {
   "cell_type": "code",
   "execution_count": 180,
   "metadata": {},
   "outputs": [],
   "source": [
    "def genomeAssembly(reads):\n",
    "    '''\n",
    "    '''\n",
    "    deG = deBruijin(reads)\n",
    "    \n",
    "    l = len(deG)\n",
    "    key = list(deG.keys())[0]\n",
    "    genome = ''\n",
    "    \n",
    "    i = 0\n",
    "    while i < l:\n",
    "        for k, v in deG.items():\n",
    "            if key == v:\n",
    "                key = k\n",
    "                i += 1\n",
    "                genome = key[0][0] + genome\n",
    "                break\n",
    "    \n",
    "    return genome"
   ]
  },
  {
   "cell_type": "code",
   "execution_count": 181,
   "metadata": {},
   "outputs": [
    {
     "data": {
      "text/plain": [
       "'TACAGAT'"
      ]
     },
     "execution_count": 181,
     "metadata": {},
     "output_type": "execute_result"
    }
   ],
   "source": [
    "genomeAssembly(reads)"
   ]
  },
  {
   "cell_type": "code",
   "execution_count": 182,
   "metadata": {},
   "outputs": [],
   "source": [
    "def read_file(path):\n",
    "    '''\n",
    "    '''\n",
    "    h = open(path).read()\n",
    "    reads = h.strip().split(\"\\n\")\n",
    "    return reads"
   ]
  },
  {
   "cell_type": "code",
   "execution_count": 183,
   "metadata": {},
   "outputs": [],
   "source": [
    "path = \"/Users/anilkumar/projectEEG/rosalind_pcov.txt\""
   ]
  },
  {
   "cell_type": "code",
   "execution_count": 185,
   "metadata": {},
   "outputs": [],
   "source": [
    "reads = read_file(path)"
   ]
  },
  {
   "cell_type": "code",
   "execution_count": null,
   "metadata": {},
   "outputs": [],
   "source": []
  },
  {
   "cell_type": "code",
   "execution_count": 187,
   "metadata": {},
   "outputs": [
    {
     "name": "stdout",
     "output_type": "stream",
     "text": [
      "TGTTTGTTAATGCTTATACCTGTCGCACTGGGACGATGGGGACAGTTACGCTTACTGCCACATGAGTGGGTGACAAAGCCGATAGTAAGATGATTGTTTCAAAGAAAACGACTCCACCTCTAGTGATCATGGGCTTACACTCTTATAACCTAGGTATGCGGGTAACCAGAGGTCCCATTCAACTACGGGGCGTGAGACGATGGTTGACACCCGATGGTCACGAGTAGTGTGTTAGCCAAAACGTGTGTAACCTATTAACCCCAATGACATTAAATATATTATCTGATGTGCTCGTTGGTGCCATCCACGCCTCGGTCCCTATTTGTTGATTTACACAATGCCATACCGAATGCCCCGTAGCATTGTGTCGGATGTGTGTATCGGGGCTAACTTTACATCGGAGCGTAAACGAGGTCCCGTCCATACTTTCCCCCGATACTTCACTCGCGACAGACAGTGGTCGTCAAATTCTAGAGTTCTATCCGGCTTCGGCAACTTTGGCGCCTCAGATGTAAGTTGATTCCCTGGTGTGCGCATCGCAGCAAATTTAGTCTTGACTGCTGTTGGTGTGAATTCATCTGACAATTTTCCGGACTAGTCGACTTTAGCGAGCAAAATAGTATATCAAACGATACAGTCAACTGCGGATCGGGTAGGCTAGTCGAATGTAGGACCATACTGACCTTACTCATGATAGATGAGGCTGTGAGTGGTAGGCATCGTGTTTTGCTTTCCTTTGTCACACTGATCGGTTGCGGTCCGATAATAGATGGTCCCCTATGGGAGGAACATTGGGTAGTATGAATTAAATTTGATGCTTTGGATTTGGGGCGTATACCCACGGTGAAACGGCCACATGATCGGTGGAGATCCCTTGGGGGGAGTACAGATTCTGAAAAACGTCAGTCAACAGCCAGCTGCACTGGAGCGGAAAGGAGAAATTACGTTAACGCCAATCACCGGACCGATCCTGATAGACTCATCCCACGAACGGGATAATGGTTCCTACTGAAATTTATCTTCCTTAATCAGGTAGATCCTCCAGCCACACATCTTGACGCGCGGGGACTGGCATTATGTCCCATAAGAAGTGTGGCCTTCAAGAACCAACACACAGTGTCGGAGGGTGACGGGATGACTTTAAACGGGACTTTTAGAAGTTCACCGCTGGGATCGTTCACAACATAGGGTCCCAAACCTTTAATATTCTAGCGGCCGTATGTGTTCTCCCGTCTTGTTTGCTATTGGCCGCGGGATGCGGGAGTGGAGAAAGCCTACGTTACTGCGTAGGCTCAAATAGGAACCTAAGTCACGTTTAAGGATATATTTTATTTCGGCCTGCCACATAATGTACTTGCATGGGGTTCATGAACATTGAATGCAGTGCAACCGGGTCAAAGATTATCTCCGTAGATATCCATATGAATCGGGCGGTGGGTGCTTGCGAGGGCATCGGTTGGTCTTGTCCAGTGTGCTAAAAGGGGGACTTTCTAACAGGTACGGTACGATGTGAGATCCGCGACGGGGGTCCTTATACGATGTCAACAGTAATATGAACGTCCCGTGAACCATAGGCGTCGCGTTACGGCTCCGCAGACAGTTGATCTCTGGTCCATCGTGCTCCATGAAAAGTTCTGTATAAAGGTATCTATAAAGAACTATGCGAAGGCTGCTTACTGACCCGATGCGGTTCTTACTGATCCGACGCCTCGCTCATAGGAAAACCTGTGAGGGTAAAGCAACATGGCCGCCTGTTGTACGACTAAAAGAAATCGGCTGGTACAGTTGTAACCTATCCACTTCGAGGAGGCATGTACGCCACTGATAATTACTAAAGCAAAAACGAGTAATGAAGGCGTAGGTGACTGTTATAGTTCCTCTCCCTAAACCCATTGGTCCGAATTATGTCCCGCCTAGTCCCCGAGCTACCCACTTTACGGTTAGGCCTGTCCTGAAATGCTCGCGAGAGTCGAAAATCCATACAGATCTAGGCTTGCGCA\n"
     ]
    }
   ],
   "source": [
    "print(genomeAssembly(reads))"
   ]
  },
  {
   "cell_type": "code",
   "execution_count": null,
   "metadata": {},
   "outputs": [],
   "source": []
  }
 ],
 "metadata": {
  "kernelspec": {
   "display_name": "Python 3",
   "language": "python",
   "name": "python3"
  },
  "language_info": {
   "codemirror_mode": {
    "name": "ipython",
    "version": 3
   },
   "file_extension": ".py",
   "mimetype": "text/x-python",
   "name": "python",
   "nbconvert_exporter": "python",
   "pygments_lexer": "ipython3",
   "version": "3.7.0"
  }
 },
 "nbformat": 4,
 "nbformat_minor": 2
}
