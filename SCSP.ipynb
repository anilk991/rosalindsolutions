{
 "cells": [
  {
   "cell_type": "code",
   "execution_count": 1,
   "metadata": {},
   "outputs": [],
   "source": [
    "from Bio import SeqIO"
   ]
  },
  {
   "cell_type": "code",
   "execution_count": 2,
   "metadata": {},
   "outputs": [],
   "source": [
    "def lcs(s, t):\n",
    "    '''\n",
    "    '''\n",
    "    lengths = [[0 for j in range(len(t) + 1)] for i in range(len(s) + 1)]\n",
    "    \n",
    "    for i, x in enumerate(s):\n",
    "        for j, y in enumerate(t):\n",
    "            if x == y:\n",
    "                lengths[i + 1][j + 1] = lengths[i][j] + 1\n",
    "            else:\n",
    "                lengths[i + 1][j + 1] = max(lengths[i + 1][j], lengths[i][j + 1])\n",
    "    \n",
    "    subseq = \"\"\n",
    "    \n",
    "    x, y = len(s), len(t)\n",
    "    \n",
    "    while x * y != 0:\n",
    "        if lengths[x][y] == lengths[x - 1][y]:\n",
    "            x -= 1\n",
    "        elif lengths[x][y] == lengths[x][y - 1]:\n",
    "            y -= 1\n",
    "        else:\n",
    "            subseq = s[x - 1] + subseq\n",
    "            x -= 1\n",
    "            y -= 1\n",
    "    return subseq"
   ]
  },
  {
   "cell_type": "code",
   "execution_count": 3,
   "metadata": {},
   "outputs": [],
   "source": [
    "s = 'ATCTGAT'\n",
    "t = 'TGCATA'"
   ]
  },
  {
   "cell_type": "code",
   "execution_count": 5,
   "metadata": {},
   "outputs": [],
   "source": [
    "ls = lcs(s, t)"
   ]
  },
  {
   "cell_type": "code",
   "execution_count": 18,
   "metadata": {},
   "outputs": [],
   "source": [
    "def scs(s, t):\n",
    "    '''\n",
    "    '''\n",
    "    subseq = lcs(s, t)\n",
    "    superseq = ''\n",
    "    \n",
    "    i, j = 0, 0\n",
    "    \n",
    "    for nt in subseq:\n",
    "        if i < len(s):\n",
    "            while s[i] != nt:\n",
    "                superseq += s[i]\n",
    "                i += 1\n",
    "            i += 1\n",
    "        if j < len(t):\n",
    "            while t[j] != nt:\n",
    "                superseq += t[j]\n",
    "                j += 1\n",
    "            j += 1\n",
    "        superseq += nt\n",
    "        \n",
    "    if i < len(superseq):\n",
    "        superseq += s[i:]\n",
    "    if j < len(superseq):\n",
    "        superseq += t[j:]\n",
    "    \n",
    "    return superseq"
   ]
  },
  {
   "cell_type": "code",
   "execution_count": 19,
   "metadata": {},
   "outputs": [
    {
     "data": {
      "text/plain": [
       "'ATGCATGAT'"
      ]
     },
     "execution_count": 19,
     "metadata": {},
     "output_type": "execute_result"
    }
   ],
   "source": [
    "scs(s, t)"
   ]
  },
  {
   "cell_type": "code",
   "execution_count": 23,
   "metadata": {},
   "outputs": [],
   "source": [
    "handle = open(\"/Users/anilkumar/projectEEG/rosalind_scsp.txt\").readlines()"
   ]
  },
  {
   "cell_type": "code",
   "execution_count": 28,
   "metadata": {},
   "outputs": [
    {
     "name": "stdout",
     "output_type": "stream",
     "text": [
      "GCGCTTCGGAGAGAAGCGGTTCAATTTAGAAAACCATCGCTAGCGTTGAGTGGCGCTGGGTAGCATAAGATTCACTAACGGGCGATCCGGCCCGACCGAAGGCTTTATCAGACCAAATAGTCAACACCTCCAA\n"
     ]
    }
   ],
   "source": [
    "print(scs(s, t))"
   ]
  },
  {
   "cell_type": "code",
   "execution_count": 25,
   "metadata": {},
   "outputs": [],
   "source": [
    "s = handle[0].strip()"
   ]
  },
  {
   "cell_type": "code",
   "execution_count": 27,
   "metadata": {},
   "outputs": [],
   "source": [
    "t = handle[1].strip()"
   ]
  },
  {
   "cell_type": "code",
   "execution_count": null,
   "metadata": {},
   "outputs": [],
   "source": []
  }
 ],
 "metadata": {
  "kernelspec": {
   "display_name": "Python 3",
   "language": "python",
   "name": "python3"
  },
  "language_info": {
   "codemirror_mode": {
    "name": "ipython",
    "version": 3
   },
   "file_extension": ".py",
   "mimetype": "text/x-python",
   "name": "python",
   "nbconvert_exporter": "python",
   "pygments_lexer": "ipython3",
   "version": "3.7.0"
  }
 },
 "nbformat": 4,
 "nbformat_minor": 2
}
