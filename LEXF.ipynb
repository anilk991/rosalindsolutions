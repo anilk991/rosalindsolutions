{
 "cells": [
  {
   "cell_type": "code",
   "execution_count": 1,
   "metadata": {},
   "outputs": [],
   "source": [
    "symbols = ['A', 'C', 'G', 'T']"
   ]
  },
  {
   "cell_type": "code",
   "execution_count": 14,
   "metadata": {},
   "outputs": [],
   "source": [
    "n = 4"
   ]
  },
  {
   "cell_type": "code",
   "execution_count": 24,
   "metadata": {},
   "outputs": [],
   "source": [
    "symbs = 'ABCDEFGHIJ'"
   ]
  },
  {
   "cell_type": "code",
   "execution_count": 25,
   "metadata": {},
   "outputs": [],
   "source": [
    "from itertools import product"
   ]
  },
  {
   "cell_type": "code",
   "execution_count": 27,
   "metadata": {},
   "outputs": [
    {
     "name": "stdout",
     "output_type": "stream",
     "text": [
      "AA\n",
      "AB\n",
      "AC\n",
      "AD\n",
      "AE\n",
      "AF\n",
      "AG\n",
      "AH\n",
      "AI\n",
      "AJ\n",
      "BA\n",
      "BB\n",
      "BC\n",
      "BD\n",
      "BE\n",
      "BF\n",
      "BG\n",
      "BH\n",
      "BI\n",
      "BJ\n",
      "CA\n",
      "CB\n",
      "CC\n",
      "CD\n",
      "CE\n",
      "CF\n",
      "CG\n",
      "CH\n",
      "CI\n",
      "CJ\n",
      "DA\n",
      "DB\n",
      "DC\n",
      "DD\n",
      "DE\n",
      "DF\n",
      "DG\n",
      "DH\n",
      "DI\n",
      "DJ\n",
      "EA\n",
      "EB\n",
      "EC\n",
      "ED\n",
      "EE\n",
      "EF\n",
      "EG\n",
      "EH\n",
      "EI\n",
      "EJ\n",
      "FA\n",
      "FB\n",
      "FC\n",
      "FD\n",
      "FE\n",
      "FF\n",
      "FG\n",
      "FH\n",
      "FI\n",
      "FJ\n",
      "GA\n",
      "GB\n",
      "GC\n",
      "GD\n",
      "GE\n",
      "GF\n",
      "GG\n",
      "GH\n",
      "GI\n",
      "GJ\n",
      "HA\n",
      "HB\n",
      "HC\n",
      "HD\n",
      "HE\n",
      "HF\n",
      "HG\n",
      "HH\n",
      "HI\n",
      "HJ\n",
      "IA\n",
      "IB\n",
      "IC\n",
      "ID\n",
      "IE\n",
      "IF\n",
      "IG\n",
      "IH\n",
      "II\n",
      "IJ\n",
      "JA\n",
      "JB\n",
      "JC\n",
      "JD\n",
      "JE\n",
      "JF\n",
      "JG\n",
      "JH\n",
      "JI\n",
      "JJ\n"
     ]
    }
   ],
   "source": [
    "for i in product(symbs,repeat=2):\n",
    "    print(''.join(i))"
   ]
  },
  {
   "cell_type": "code",
   "execution_count": 19,
   "metadata": {},
   "outputs": [
    {
     "name": "stdout",
     "output_type": "stream",
     "text": [
      "AA\n",
      "AB\n",
      "AC\n",
      "AD\n",
      "AE\n",
      "BA\n",
      "BB\n",
      "BC\n",
      "BD\n",
      "BE\n",
      "CA\n",
      "CB\n",
      "CC\n",
      "CD\n",
      "CE\n",
      "DA\n",
      "DB\n",
      "DC\n",
      "DD\n",
      "DE\n",
      "EA\n",
      "EB\n",
      "EC\n",
      "ED\n",
      "EE\n"
     ]
    }
   ],
   "source": [
    "for i in range(len(symbs)):\n",
    "    for j in range(len(symbs)):\n",
    "        #if i != j:\n",
    "        print(symbs[i]+symbs[j])"
   ]
  },
  {
   "cell_type": "code",
   "execution_count": 20,
   "metadata": {},
   "outputs": [
    {
     "name": "stdout",
     "output_type": "stream",
     "text": [
      "A\n",
      "B\n",
      "C\n",
      "D\n",
      "E\n",
      "A\n",
      "B\n",
      "C\n",
      "D\n",
      "E\n",
      "A\n",
      "B\n",
      "C\n",
      "D\n",
      "E\n",
      "A\n",
      "B\n",
      "C\n",
      "D\n",
      "E\n"
     ]
    }
   ],
   "source": [
    "n = 0\n",
    "for i in range(len(symbs)):\n",
    "    n = 0\n",
    "    while n < 4:\n",
    "        for j in range()"
   ]
  },
  {
   "cell_type": "code",
   "execution_count": null,
   "metadata": {},
   "outputs": [],
   "source": []
  },
  {
   "cell_type": "code",
   "execution_count": null,
   "metadata": {},
   "outputs": [],
   "source": []
  }
 ],
 "metadata": {
  "kernelspec": {
   "display_name": "Python 3",
   "language": "python",
   "name": "python3"
  },
  "language_info": {
   "codemirror_mode": {
    "name": "ipython",
    "version": 3
   },
   "file_extension": ".py",
   "mimetype": "text/x-python",
   "name": "python",
   "nbconvert_exporter": "python",
   "pygments_lexer": "ipython3",
   "version": "3.7.0"
  }
 },
 "nbformat": 4,
 "nbformat_minor": 2
}
