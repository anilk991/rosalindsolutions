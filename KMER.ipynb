{
 "cells": [
  {
   "cell_type": "code",
   "execution_count": 2,
   "metadata": {},
   "outputs": [],
   "source": [
    "import re\n",
    "import itertools\n",
    "from Bio import SeqIO"
   ]
  },
  {
   "cell_type": "code",
   "execution_count": 8,
   "metadata": {},
   "outputs": [],
   "source": [
    "s = '''CTTCGAAAGTTTGGGCCGAGTCTTACAGTCGGTCTTGAAGCAAAGTAACGAACTCCACGG\n",
    "CCCTGACTACCGAACCAGTTGTGAGTACTCAACTGGGTGAGAGTGCAGTCCCTATTGAGT\n",
    "TTCCGAGACTCACCGGGATTTTCGATCCAGCCTCAGTCCAGTCTTGTGGCCAACTCACCA\n",
    "AATGACGTTGGAATATCCCTGTCTAGCTCACGCAGTACTTAGTAAGAGGTCGCTGCAGCG\n",
    "GGGCAAGGAGATCGGAAAATGTGCTCTATATGCGACTAAAGCTCCTAACTTACACGTAGA\n",
    "CTTGCCCGTGTTAAAAACTCGGCTCACATGCTGTCTGCGGCTGGCTGTATACAGTATCTA\n",
    "CCTAATACCCTTCAGTTCGCCGCACAAAAGCTGGGAGTTACCGCGGAAATCACAG'''"
   ]
  },
  {
   "cell_type": "code",
   "execution_count": 9,
   "metadata": {},
   "outputs": [],
   "source": [
    "s = s.replace(\"\\n\", \"\")"
   ]
  },
  {
   "cell_type": "code",
   "execution_count": 27,
   "metadata": {},
   "outputs": [],
   "source": [
    "def kmers_in_seq(seq, n):\n",
    "    '''\n",
    "    '''\n",
    "    sKmers = []\n",
    "    for i in range(len(seq)):\n",
    "        if i + n > len(seq):\n",
    "            continue\n",
    "        else:\n",
    "            sKmers.append(seq[i:i+4])\n",
    "    sKmers.sort()\n",
    "    return sKmers"
   ]
  },
  {
   "cell_type": "code",
   "execution_count": 11,
   "metadata": {},
   "outputs": [],
   "source": [
    "def countKmers(seq, n):\n",
    "    '''\n",
    "    '''\n",
    "    cKmers = []\n",
    "    \n",
    "    kmers = [''.join(i) for i in itertools.product(\"ACGT\", repeat=n)]\n",
    "    \n",
    "    sKmers = kmers_in_seq(seq, n)\n",
    "    \n",
    "    for i in range(len(kmers)):\n",
    "        count = 0\n",
    "        pos = 0\n",
    "        for j in range(pos, len(sKmers)):\n",
    "            if kmers[i] == sKmers[j]:\n",
    "                count += 1\n",
    "            else:\n",
    "                pos = j\n",
    "                continue\n",
    "        cKmers.append(count)\n",
    "    \n",
    "    return cKmers"
   ]
  },
  {
   "cell_type": "code",
   "execution_count": 31,
   "metadata": {},
   "outputs": [
    {
     "name": "stdout",
     "output_type": "stream",
     "text": [
      "4 1 4 3 0 1 1 5 1 3 1 2 2 1 2 0 1 1 3 1 2 1 3 1 1 1 1 2 2 5 1 3 0 2 2 1 1 1 1 3 1 0 0 1 5 5 1 5 0 2 0 2 1 2 1 1 1 2 0 1 0 0 1 1 3 2 1 0 3 2 3 0 0 2 0 8 0 0 1 0 2 1 3 0 0 0 1 4 3 2 1 1 3 1 2 1 3 1 2 1 2 1 1 1 2 3 2 1 1 0 1 1 3 2 1 2 6 2 1 1 1 2 3 3 3 2 3 0 3 2 1 1 0 0 1 4 3 0 1 5 0 2 0 1 2 1 3 0 1 2 2 1 1 0 3 0 0 4 5 0 3 0 2 1 1 3 0 3 2 2 1 1 0 2 1 0 2 2 1 2 0 2 2 5 2 2 1 1 2 1 2 2 2 2 1 1 3 4 0 2 1 1 0 1 2 2 1 1 1 5 2 0 3 2 1 1 2 2 3 0 3 0 1 3 1 2 3 0 2 1 2 2 1 2 3 0 1 2 3 1 1 3 1 0 1 1 3 0 2 1 2 2 0 2 1 1\n"
     ]
    }
   ],
   "source": [
    "print(*countKmers(s, 4))"
   ]
  },
  {
   "cell_type": "code",
   "execution_count": 34,
   "metadata": {},
   "outputs": [],
   "source": [
    "file = open(\"/Users/anilkumar/projectEEG/rosalind_kmer (1).txt\")\n",
    "for record in SeqIO.parse(file, \"fasta\"):\n",
    "    seq = str(record.seq)\n",
    "file.close()"
   ]
  },
  {
   "cell_type": "code",
   "execution_count": 35,
   "metadata": {},
   "outputs": [
    {
     "name": "stdout",
     "output_type": "stream",
     "text": [
      "420 418 375 361 428 363 394 385 410 373 363 367 338 404 391 397 390 382 420 353 362 398 386 396 418 368 365 379 395 350 387 385 380 383 363 415 397 368 431 374 370 352 365 394 378 388 395 382 373 347 402 355 406 376 372 412 400 358 396 356 403 322 342 383 406 376 365 393 359 418 395 341 389 400 363 406 371 375 364 362 364 378 358 375 386 417 407 380 353 366 388 361 369 366 393 372 390 372 413 356 374 381 370 374 393 372 365 338 359 331 371 391 397 376 366 375 352 392 359 330 368 347 374 367 393 375 395 346 375 376 413 388 375 397 369 396 336 403 396 396 400 391 387 347 397 386 394 395 355 382 325 356 393 376 384 351 382 374 335 378 396 394 359 359 422 347 341 358 366 395 379 352 380 345 364 367 381 357 374 367 349 352 366 338 416 362 382 400 402 365 346 371 373 400 360 388 383 364 372 395 406 394 359 374 368 395 368 344 389 367 386 349 372 393 350 368 367 389 331 361 368 343 341 374 386 388 396 395 379 322 362 363 379 349 383 372 362 341 430 344 370 434 392 378 384 363 351 346 381 359 331 354 376 382 342 356\n"
     ]
    }
   ],
   "source": [
    "print(*countKmers(seq, 4))"
   ]
  },
  {
   "cell_type": "code",
   "execution_count": null,
   "metadata": {},
   "outputs": [],
   "source": []
  }
 ],
 "metadata": {
  "kernelspec": {
   "display_name": "Python 3",
   "language": "python",
   "name": "python3"
  },
  "language_info": {
   "codemirror_mode": {
    "name": "ipython",
    "version": 3
   },
   "file_extension": ".py",
   "mimetype": "text/x-python",
   "name": "python",
   "nbconvert_exporter": "python",
   "pygments_lexer": "ipython3",
   "version": "3.7.0"
  }
 },
 "nbformat": 4,
 "nbformat_minor": 2
}
