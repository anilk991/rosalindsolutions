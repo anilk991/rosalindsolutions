{
 "cells": [
  {
   "cell_type": "code",
   "execution_count": 3,
   "metadata": {},
   "outputs": [],
   "source": [
    "from Bio import SeqIO\n",
    "import math"
   ]
  },
  {
   "cell_type": "code",
   "execution_count": 12,
   "metadata": {},
   "outputs": [],
   "source": [
    "handle = open(\"/Users/anilkumar/projectEEG/rosalind_pmch.txt\")\n",
    "rna = ''\n",
    "for record in SeqIO.parse(handle, \"fasta\"):\n",
    "    rna = str(record.seq)\n",
    "handle.close()"
   ]
  },
  {
   "cell_type": "code",
   "execution_count": 1,
   "metadata": {},
   "outputs": [],
   "source": [
    "def pmch(rna):\n",
    "    '''\n",
    "    '''\n",
    "    countA = 0\n",
    "    countG = 0\n",
    "    for nt in rna:\n",
    "        if nt == 'A':\n",
    "            countA += 1\n",
    "        elif nt == 'G':\n",
    "            countG += 1\n",
    "        else:\n",
    "            continue\n",
    "    \n",
    "    return math.factorial(countA) * math.factorial(countG)"
   ]
  },
  {
   "cell_type": "code",
   "execution_count": 5,
   "metadata": {},
   "outputs": [
    {
     "name": "stdout",
     "output_type": "stream",
     "text": [
      "12\n"
     ]
    }
   ],
   "source": [
    "print(pmch('AGCUAGUCAU'))"
   ]
  },
  {
   "cell_type": "code",
   "execution_count": 14,
   "metadata": {},
   "outputs": [
    {
     "name": "stdout",
     "output_type": "stream",
     "text": [
      "7196272704742491028060152791040000000\n"
     ]
    }
   ],
   "source": [
    "print(pmch(rna))"
   ]
  },
  {
   "cell_type": "code",
   "execution_count": null,
   "metadata": {},
   "outputs": [],
   "source": []
  }
 ],
 "metadata": {
  "kernelspec": {
   "display_name": "Python 3",
   "language": "python",
   "name": "python3"
  },
  "language_info": {
   "codemirror_mode": {
    "name": "ipython",
    "version": 3
   },
   "file_extension": ".py",
   "mimetype": "text/x-python",
   "name": "python",
   "nbconvert_exporter": "python",
   "pygments_lexer": "ipython3",
   "version": "3.7.0"
  }
 },
 "nbformat": 4,
 "nbformat_minor": 2
}
