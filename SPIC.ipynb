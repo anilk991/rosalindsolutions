{
 "cells": [
  {
   "cell_type": "code",
   "execution_count": 46,
   "metadata": {},
   "outputs": [],
   "source": [
    "import re\n",
    "from Bio import SeqIO"
   ]
  },
  {
   "cell_type": "code",
   "execution_count": 12,
   "metadata": {},
   "outputs": [],
   "source": [
    "exDna = 'ATGGTCTACATAGCTGACAAACAGCACGTAGCAATCGGTCGAATCTCGAGAGGCATATGGTCACATGATCGGTCGAGCGTGTTTCAAAGTTTGCGCCTAG'\n",
    "exSp1 = 'ATCGGTCGAA'\n",
    "exSp2 = 'ATCGGTCGAGCGTGT'"
   ]
  },
  {
   "cell_type": "code",
   "execution_count": 9,
   "metadata": {},
   "outputs": [],
   "source": [
    "codons = open(\"/Users/anilkumar/projectEEG/rosalind_dna.txt\").readlines()\n",
    "codons = [codon.replace(\"\\n\", \"\") for codon in codons]\n",
    "codons = [codon.replace(\"      \", \"\") for codon in codons]\n",
    "codons = [codon.replace(\"   \", \"\") for codon in codons]\n",
    "\n",
    "codons = [codon.replace(\"U\", \"T\") for codon in codons]\n",
    "\n",
    "Codons = {}\n",
    "for codon in codons:\n",
    "    a, b = codon.split(\" \")[:2]\n",
    "    Codons[a] = b"
   ]
  },
  {
   "cell_type": "code",
   "execution_count": 11,
   "metadata": {},
   "outputs": [],
   "source": [
    "def DNA2PROT(seq):\n",
    "    i = 0\n",
    "    prot_seq = []\n",
    "    while i < len(seq):\n",
    "        codon = seq[i:i+3]\n",
    "        if Codons[codon] != 'Stop':\n",
    "            prot_seq.append(Codons[codon])\n",
    "        i += 3\n",
    "    return \"\".join(prot_seq)"
   ]
  },
  {
   "cell_type": "code",
   "execution_count": 31,
   "metadata": {},
   "outputs": [],
   "source": [
    "def splice(dna, spliceSeqs):\n",
    "    '''\n",
    "    \n",
    "    '''\n",
    "    for spSeq in spliceSeqs:\n",
    "        dna = dna.replace(spSeq, \"\")\n",
    "    return dna"
   ]
  },
  {
   "cell_type": "code",
   "execution_count": 33,
   "metadata": {},
   "outputs": [
    {
     "data": {
      "text/plain": [
       "75"
      ]
     },
     "execution_count": 33,
     "metadata": {},
     "output_type": "execute_result"
    }
   ],
   "source": [
    "len(splice(exDna, [sp1, sp2]))"
   ]
  },
  {
   "cell_type": "code",
   "execution_count": 64,
   "metadata": {},
   "outputs": [],
   "source": [
    "seqs = [ str(rec.seq) for rec in SeqIO.parse(open(\"/Users/anilkumar/projectEEG/rosalind_splc (1).txt\"), \"fasta\")]"
   ]
  },
  {
   "cell_type": "code",
   "execution_count": 65,
   "metadata": {},
   "outputs": [],
   "source": [
    "dna = seqs[0]"
   ]
  },
  {
   "cell_type": "code",
   "execution_count": 66,
   "metadata": {},
   "outputs": [],
   "source": [
    "spSeqs = seqs[1:]"
   ]
  },
  {
   "cell_type": "code",
   "execution_count": 67,
   "metadata": {},
   "outputs": [
    {
     "data": {
      "text/plain": [
       "['AACAACTTTTCAAGTTGAAGAGTTATACATGATTCATAAGTAGTTAT',\n",
       " 'GCGTCGAGGTCACACTCTTGG',\n",
       " 'CTTGCTATTGCAAAAAAGGTGTTAGCGCTAATCT',\n",
       " 'GGGGATGTCAGGGAGACATAGCATCGATG',\n",
       " 'CTGCACAGCAATCTTCATACAATTGCTCAATGCGA',\n",
       " 'AGGGCGAGTCGCGACATTGGAAGAATATCA',\n",
       " 'GAGCCTGTTTGCCGCTCTTTTGGG',\n",
       " 'TTCAGTTCGCTGCCTTGGGAGAACACTGGCCGGAGAGGGGGAATAT',\n",
       " 'GAGAAGTCGGGGTTAATGTGTT',\n",
       " 'TGAGTGAAATAGGAAAGAGAATGACTCTAAACGGGGATAGATAATACGGT',\n",
       " 'GGCTGAGGTTCCCGGGTCCGTTAAAAGGTCCTCGCTTACTATCTTACATA',\n",
       " 'CTACGATCACTGCGCCCTGAAGCC',\n",
       " 'CCCGTTTCAGGGGACTAGTATACTCCTTGTCTCGCCGATCACGGC']"
      ]
     },
     "execution_count": 67,
     "metadata": {},
     "output_type": "execute_result"
    }
   ],
   "source": [
    "spSeqs"
   ]
  },
  {
   "cell_type": "code",
   "execution_count": 69,
   "metadata": {},
   "outputs": [
    {
     "data": {
      "text/plain": [
       "'MGSLGGAMIGYILVTRRGHPVYAMQVTYLLVYISTSSPVLGDYLSLCVVLLRCSPLKRDVKPLDQSPDMPWSPPHATASQDRRMFGKLSINEHVIGYLRREISHGYSREWPSPRPGLGRAIDFCVDGNSRVADDGPGNAARTTRDLVHNVPRSLDDLQDGRRAYTF'"
      ]
     },
     "execution_count": 69,
     "metadata": {},
     "output_type": "execute_result"
    }
   ],
   "source": [
    "DNA2PROT(splice(dna, spSeqs))"
   ]
  },
  {
   "cell_type": "code",
   "execution_count": null,
   "metadata": {},
   "outputs": [],
   "source": []
  }
 ],
 "metadata": {
  "kernelspec": {
   "display_name": "Python 3",
   "language": "python",
   "name": "python3"
  },
  "language_info": {
   "codemirror_mode": {
    "name": "ipython",
    "version": 3
   },
   "file_extension": ".py",
   "mimetype": "text/x-python",
   "name": "python",
   "nbconvert_exporter": "python",
   "pygments_lexer": "ipython3",
   "version": "3.7.0"
  }
 },
 "nbformat": 4,
 "nbformat_minor": 2
}
