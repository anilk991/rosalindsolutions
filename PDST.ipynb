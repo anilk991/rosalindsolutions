{
 "cells": [
  {
   "cell_type": "code",
   "execution_count": 1,
   "metadata": {},
   "outputs": [],
   "source": [
    "from Bio import SeqIO"
   ]
  },
  {
   "cell_type": "code",
   "execution_count": 2,
   "metadata": {},
   "outputs": [],
   "source": [
    "def from_file(path):\n",
    "    '''\n",
    "    '''\n",
    "    h = open(path)\n",
    "    seqs = []\n",
    "    for record in SeqIO.parse(h, \"fasta\"):\n",
    "        seqs.append(str(record.seq))\n",
    "    \n",
    "    return seqs"
   ]
  },
  {
   "cell_type": "code",
   "execution_count": 3,
   "metadata": {},
   "outputs": [],
   "source": [
    "path = \"/Users/anilkumar/projectEEG/rosalind_pdst.txt\""
   ]
  },
  {
   "cell_type": "code",
   "execution_count": 5,
   "metadata": {},
   "outputs": [],
   "source": [
    "seqs = ['TTTCCATTTA', 'GATTCATTTC', 'TTTCCATTTT', 'GTTCCATTTA']"
   ]
  },
  {
   "cell_type": "code",
   "execution_count": 15,
   "metadata": {},
   "outputs": [],
   "source": [
    "def dMat_print(dMat):\n",
    "    '''\n",
    "    '''\n",
    "    for row in dMat:\n",
    "        print(\" \".join([str(col) for col in row]))"
   ]
  },
  {
   "cell_type": "code",
   "execution_count": 16,
   "metadata": {},
   "outputs": [],
   "source": [
    "def dist(s1, s2):\n",
    "    '''\n",
    "    '''\n",
    "    mis = 0\n",
    "    for i in range(len(s1)):\n",
    "        if s1[i] != s2[i]:\n",
    "            mis += 1\n",
    "    \n",
    "    return mis/len(s1)"
   ]
  },
  {
   "cell_type": "code",
   "execution_count": 21,
   "metadata": {},
   "outputs": [],
   "source": [
    "def main(seqs):\n",
    "    '''\n",
    "    '''\n",
    "    dMat = [[0 for i in range(len(seqs))] for j in range(len(seqs))]\n",
    "    \n",
    "    for i in range(len(seqs)):\n",
    "        for j in range(len(seqs)):\n",
    "            if i == j:\n",
    "                continue\n",
    "            else:\n",
    "                dMat[i][j] = dist(seqs[i], seqs[j])\n",
    "    \n",
    "    dMat_print(dMat)"
   ]
  },
  {
   "cell_type": "code",
   "execution_count": 24,
   "metadata": {},
   "outputs": [
    {
     "name": "stdout",
     "output_type": "stream",
     "text": [
      "0 0.5719424460431655 0.6223021582733813 0.29856115107913667 0.6390887290167866 0.4784172661870504 0.6115107913669064 0.6342925659472423 0.6510791366906474 0.5743405275779376\n",
      "0.5719424460431655 0 0.28776978417266186 0.473621103117506 0.6258992805755396 0.302158273381295 0.5551558752997602 0.33213429256594723 0.6199040767386091 0.4628297362110312\n",
      "0.6223021582733813 0.28776978417266186 0 0.5503597122302158 0.6630695443645084 0.45323741007194246 0.6187050359712231 0.4628297362110312 0.6774580335731415 0.5491606714628298\n",
      "0.29856115107913667 0.473621103117506 0.5503597122302158 0 0.6414868105515588 0.3129496402877698 0.564748201438849 0.5731414868105515 0.6462829736211031 0.49160671462829736\n",
      "0.6390887290167866 0.6258992805755396 0.6630695443645084 0.6414868105515588 0 0.5947242206235012 0.32973621103117506 0.6726618705035972 0.47601918465227816 0.486810551558753\n",
      "0.4784172661870504 0.302158273381295 0.45323741007194246 0.3129496402877698 0.5947242206235012 0 0.4520383693045564 0.4784172661870504 0.5779376498800959 0.3225419664268585\n",
      "0.6115107913669064 0.5551558752997602 0.6187050359712231 0.564748201438849 0.32973621103117506 0.4520383693045564 0 0.6378896882494005 0.32014388489208634 0.30335731414868106\n",
      "0.6342925659472423 0.33213429256594723 0.4628297362110312 0.5731414868105515 0.6726618705035972 0.4784172661870504 0.6378896882494005 0 0.6738609112709832 0.5839328537170264\n",
      "0.6510791366906474 0.6199040767386091 0.6774580335731415 0.6462829736211031 0.47601918465227816 0.5779376498800959 0.32014388489208634 0.6738609112709832 0 0.4712230215827338\n",
      "0.5743405275779376 0.4628297362110312 0.5491606714628298 0.49160671462829736 0.486810551558753 0.3225419664268585 0.30335731414868106 0.5839328537170264 0.4712230215827338 0\n"
     ]
    }
   ],
   "source": [
    "main(from_file(path))"
   ]
  },
  {
   "cell_type": "code",
   "execution_count": null,
   "metadata": {},
   "outputs": [],
   "source": []
  }
 ],
 "metadata": {
  "kernelspec": {
   "display_name": "Python 3",
   "language": "python",
   "name": "python3"
  },
  "language_info": {
   "codemirror_mode": {
    "name": "ipython",
    "version": 3
   },
   "file_extension": ".py",
   "mimetype": "text/x-python",
   "name": "python",
   "nbconvert_exporter": "python",
   "pygments_lexer": "ipython3",
   "version": "3.7.0"
  }
 },
 "nbformat": 4,
 "nbformat_minor": 2
}
