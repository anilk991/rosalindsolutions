{
 "cells": [
  {
   "cell_type": "code",
   "execution_count": 7,
   "metadata": {},
   "outputs": [],
   "source": [
    "from Bio import SeqIO"
   ]
  },
  {
   "cell_type": "code",
   "execution_count": 19,
   "metadata": {},
   "outputs": [],
   "source": [
    "seqs = ['AAATAAA', 'AAATTTT', 'TTTTCCC', 'AAATCCC', 'GGGTGGG']\n",
    "nodes = ['Rosalind_0498', 'Rosalind_2391', 'Rosalind_2323', 'Rosalind_0442', 'Rosalind_5013']"
   ]
  },
  {
   "cell_type": "code",
   "execution_count": null,
   "metadata": {},
   "outputs": [],
   "source": []
  },
  {
   "cell_type": "code",
   "execution_count": 17,
   "metadata": {},
   "outputs": [],
   "source": [
    "def grph(seqs, nodes, k):\n",
    "    '''\n",
    "    '''\n",
    "    for i in range(len(seqs)):\n",
    "        for j in range(len(seqs)):\n",
    "            if i != j and seqs[i][-k:] == seqs[j][:k]:\n",
    "                print(nodes[i], nodes[j])"
   ]
  },
  {
   "cell_type": "code",
   "execution_count": 28,
   "metadata": {},
   "outputs": [],
   "source": [
    "handle = open(\"/Users/anilkumar/projectEEG/rosalind_grph (1).txt\")\n",
    "sequences = []\n",
    "nodes = []\n",
    "for record in SeqIO.parse(handle, \"fasta\"):\n",
    "    sequences.append(str(record.seq))\n",
    "    nodes.append(record.id)\n",
    "handle.close()"
   ]
  },
  {
   "cell_type": "code",
   "execution_count": null,
   "metadata": {},
   "outputs": [],
   "source": []
  },
  {
   "cell_type": "code",
   "execution_count": 20,
   "metadata": {},
   "outputs": [
    {
     "name": "stdout",
     "output_type": "stream",
     "text": [
      "Rosalind_0498 Rosalind_2391\n",
      "Rosalind_0498 Rosalind_0442\n",
      "Rosalind_2391 Rosalind_2323\n"
     ]
    }
   ],
   "source": [
    "grph(seqs, nodes, 3)"
   ]
  },
  {
   "cell_type": "code",
   "execution_count": 29,
   "metadata": {},
   "outputs": [
    {
     "name": "stdout",
     "output_type": "stream",
     "text": [
      "Rosalind_4201 Rosalind_0702\n",
      "Rosalind_0516 Rosalind_4445\n",
      "Rosalind_0516 Rosalind_6305\n",
      "Rosalind_4930 Rosalind_2638\n",
      "Rosalind_2680 Rosalind_8208\n",
      "Rosalind_2680 Rosalind_5372\n",
      "Rosalind_2680 Rosalind_3756\n",
      "Rosalind_3402 Rosalind_7615\n",
      "Rosalind_4099 Rosalind_8553\n",
      "Rosalind_6691 Rosalind_9226\n",
      "Rosalind_4642 Rosalind_6584\n",
      "Rosalind_4642 Rosalind_3680\n",
      "Rosalind_2156 Rosalind_5121\n",
      "Rosalind_2156 Rosalind_3200\n",
      "Rosalind_9402 Rosalind_5623\n",
      "Rosalind_9402 Rosalind_8743\n",
      "Rosalind_9441 Rosalind_7883\n",
      "Rosalind_2737 Rosalind_3402\n",
      "Rosalind_2737 Rosalind_7615\n",
      "Rosalind_9850 Rosalind_5121\n",
      "Rosalind_9850 Rosalind_3200\n",
      "Rosalind_0060 Rosalind_6464\n",
      "Rosalind_0060 Rosalind_5900\n",
      "Rosalind_8208 Rosalind_9162\n",
      "Rosalind_6581 Rosalind_6691\n",
      "Rosalind_6581 Rosalind_9226\n",
      "Rosalind_9857 Rosalind_3953\n",
      "Rosalind_0893 Rosalind_9162\n",
      "Rosalind_2198 Rosalind_5498\n",
      "Rosalind_5372 Rosalind_7163\n",
      "Rosalind_5372 Rosalind_6423\n",
      "Rosalind_9605 Rosalind_3010\n",
      "Rosalind_9259 Rosalind_6581\n",
      "Rosalind_9259 Rosalind_2655\n",
      "Rosalind_2638 Rosalind_7793\n",
      "Rosalind_2638 Rosalind_8426\n",
      "Rosalind_2403 Rosalind_4099\n",
      "Rosalind_2403 Rosalind_9402\n",
      "Rosalind_2403 Rosalind_9999\n",
      "Rosalind_2403 Rosalind_4891\n",
      "Rosalind_0100 Rosalind_1943\n",
      "Rosalind_0100 Rosalind_6171\n",
      "Rosalind_0100 Rosalind_0257\n",
      "Rosalind_7119 Rosalind_9434\n",
      "Rosalind_5623 Rosalind_2198\n",
      "Rosalind_5623 Rosalind_6050\n",
      "Rosalind_1841 Rosalind_5262\n",
      "Rosalind_1841 Rosalind_4004\n",
      "Rosalind_0045 Rosalind_4201\n",
      "Rosalind_0045 Rosalind_4241\n",
      "Rosalind_0045 Rosalind_4008\n",
      "Rosalind_0045 Rosalind_3188\n",
      "Rosalind_9270 Rosalind_0702\n",
      "Rosalind_4445 Rosalind_9162\n",
      "Rosalind_3926 Rosalind_6691\n",
      "Rosalind_3926 Rosalind_9226\n",
      "Rosalind_2772 Rosalind_1417\n",
      "Rosalind_2772 Rosalind_0385\n",
      "Rosalind_2772 Rosalind_3462\n",
      "Rosalind_3756 Rosalind_7793\n",
      "Rosalind_3756 Rosalind_8426\n",
      "Rosalind_6464 Rosalind_0691\n",
      "Rosalind_1604 Rosalind_5262\n",
      "Rosalind_1604 Rosalind_4004\n",
      "Rosalind_6050 Rosalind_2760\n",
      "Rosalind_1347 Rosalind_6897\n",
      "Rosalind_1347 Rosalind_0121\n",
      "Rosalind_3010 Rosalind_5121\n",
      "Rosalind_3010 Rosalind_3200\n",
      "Rosalind_0702 Rosalind_6691\n",
      "Rosalind_0702 Rosalind_9226\n",
      "Rosalind_7883 Rosalind_0702\n",
      "Rosalind_9226 Rosalind_2760\n",
      "Rosalind_9434 Rosalind_8553\n",
      "Rosalind_6423 Rosalind_5121\n",
      "Rosalind_6423 Rosalind_3200\n",
      "Rosalind_2732 Rosalind_7119\n",
      "Rosalind_9943 Rosalind_3953\n",
      "Rosalind_3680 Rosalind_0691\n",
      "Rosalind_8743 Rosalind_7119\n",
      "Rosalind_9705 Rosalind_9270\n",
      "Rosalind_6189 Rosalind_9259\n",
      "Rosalind_6189 Rosalind_3926\n",
      "Rosalind_5124 Rosalind_2638\n",
      "Rosalind_9320 Rosalind_9605\n",
      "Rosalind_9320 Rosalind_0045\n",
      "Rosalind_9320 Rosalind_0421\n",
      "Rosalind_3953 Rosalind_4570\n",
      "Rosalind_3953 Rosalind_8084\n",
      "Rosalind_8738 Rosalind_9857\n",
      "Rosalind_8738 Rosalind_7093\n",
      "Rosalind_7793 Rosalind_3402\n",
      "Rosalind_7793 Rosalind_7615\n",
      "Rosalind_9633 Rosalind_0516\n",
      "Rosalind_9162 Rosalind_6189\n",
      "Rosalind_6897 Rosalind_0516\n",
      "Rosalind_8426 Rosalind_1417\n",
      "Rosalind_8426 Rosalind_0385\n",
      "Rosalind_8426 Rosalind_3462\n",
      "Rosalind_4392 Rosalind_0516\n",
      "Rosalind_1943 Rosalind_5262\n",
      "Rosalind_1943 Rosalind_4004\n",
      "Rosalind_3884 Rosalind_2156\n",
      "Rosalind_3884 Rosalind_1347\n",
      "Rosalind_0691 Rosalind_7793\n",
      "Rosalind_0691 Rosalind_8426\n",
      "Rosalind_4440 Rosalind_5498\n",
      "Rosalind_9999 Rosalind_9320\n",
      "Rosalind_5900 Rosalind_9705\n",
      "Rosalind_5262 Rosalind_4930\n",
      "Rosalind_5262 Rosalind_0893\n",
      "Rosalind_7093 Rosalind_6691\n",
      "Rosalind_7093 Rosalind_9226\n",
      "Rosalind_7615 Rosalind_2156\n",
      "Rosalind_7615 Rosalind_1347\n",
      "Rosalind_6305 Rosalind_2156\n",
      "Rosalind_6305 Rosalind_1347\n",
      "Rosalind_0121 Rosalind_7163\n",
      "Rosalind_0121 Rosalind_6423\n",
      "Rosalind_4008 Rosalind_9633\n",
      "Rosalind_3200 Rosalind_9850\n",
      "Rosalind_8433 Rosalind_3010\n",
      "Rosalind_2655 Rosalind_2156\n",
      "Rosalind_2655 Rosalind_1347\n",
      "Rosalind_4004 Rosalind_9633\n",
      "Rosalind_3188 Rosalind_9705\n",
      "Rosalind_4891 Rosalind_4570\n",
      "Rosalind_4891 Rosalind_8084\n",
      "Rosalind_4817 Rosalind_9605\n",
      "Rosalind_4817 Rosalind_0045\n",
      "Rosalind_4817 Rosalind_0421\n",
      "Rosalind_6171 Rosalind_2638\n",
      "Rosalind_5498 Rosalind_4440\n",
      "Rosalind_6124 Rosalind_4930\n",
      "Rosalind_6124 Rosalind_0893\n",
      "Rosalind_7266 Rosalind_5498\n",
      "Rosalind_0257 Rosalind_9259\n",
      "Rosalind_0257 Rosalind_3926\n",
      "Rosalind_3462 Rosalind_5121\n",
      "Rosalind_3462 Rosalind_3200\n"
     ]
    }
   ],
   "source": [
    "grph(sequences, nodes, 3)"
   ]
  },
  {
   "cell_type": "code",
   "execution_count": null,
   "metadata": {},
   "outputs": [],
   "source": []
  },
  {
   "cell_type": "code",
   "execution_count": null,
   "metadata": {},
   "outputs": [],
   "source": []
  }
 ],
 "metadata": {
  "kernelspec": {
   "display_name": "Python 3",
   "language": "python",
   "name": "python3"
  },
  "language_info": {
   "codemirror_mode": {
    "name": "ipython",
    "version": 3
   },
   "file_extension": ".py",
   "mimetype": "text/x-python",
   "name": "python",
   "nbconvert_exporter": "python",
   "pygments_lexer": "ipython3",
   "version": "3.7.0"
  }
 },
 "nbformat": 4,
 "nbformat_minor": 2
}
